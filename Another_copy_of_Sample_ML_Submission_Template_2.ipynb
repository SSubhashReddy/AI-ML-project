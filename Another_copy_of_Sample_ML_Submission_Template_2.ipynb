{
  "nbformat": 4,
  "nbformat_minor": 0,
  "metadata": {
    "colab": {
      "private_outputs": true,
      "provenance": [],
      "collapsed_sections": [
        "vncDsAP0Gaoa",
        "FJNUwmbgGyua",
        "w6K7xa23Elo4",
        "yQaldy8SH6Dl",
        "mDgbUHAGgjLW",
        "PBTbrJXOngz2",
        "MSa1f5Uengrz",
        "K5QZ13OEpz2H",
        "lQ7QKXXCp7Bj",
        "448CDAPjqfQr",
        "t6dVpIINYklI",
        "ijmpgYnKYklI",
        "-JiQyfWJYklI",
        "fge-S5ZAYoAp",
        "85gYPyotYoAp",
        "RoGjAbkUYoAp",
        "iky9q4vBYrdO",
        "F6T5p64dYrdO",
        "y-Ehk30pYrdP",
        "QHF8YVU7Yuh3",
        "GwzvFGzlYuh3",
        "qYpmQ266Yuh3",
        "bbFf2-_FphqN",
        "_ouA3fa0phqN",
        "Seke61FWphqN",
        "t27r6nlMphqO",
        "r2jJGEOYphqO",
        "b0JNsNcRphqO",
        "jj7wYXLtphqO",
        "eZrbJ2SmphqO",
        "rFu4xreNphqO",
        "gCFgpxoyphqP",
        "OVtJsKN_phqQ",
        "lssrdh5qphqQ",
        "1M8mcRywphqQ",
        "tgIPom80phqQ",
        "JMzcOPDDphqR",
        "X_VqEhTip1ck",
        "8zGJKyg5p1ck",
        "PVzmfK_Ep1ck",
        "ylSl6qgtp1ck",
        "ZWILFDl5p1ck",
        "M7G43BXep1ck",
        "E6MkPsBcp1cl",
        "2cELzS2fp1cl",
        "3MPXvC8up1cl",
        "UV0SzAkaZNRQ",
        "YPEH6qLeZNRQ",
        "EXh0U9oCveiU",
        "22aHeOlLveiV",
        "Yfr_Vlr8HBkt",
        "tEA2Xm5dHt1r",
        "Ou-I18pAyIpj",
        "fF3858GYyt-u",
        "4_0_7-oCpUZd",
        "hwyV_J3ipUZe",
        "3yB-zSqbpUZe",
        "dEUvejAfpUZe",
        "Fd15vwWVpUZf",
        "bn_IUdTipZyH",
        "49K5P_iCpZyH",
        "Nff-vKELpZyI",
        "kLW572S8pZyI",
        "dWbDXHzopZyI",
        "yLjJCtPM0KBk",
        "xiyOF9F70UgQ",
        "7wuGOrhz0itI",
        "id1riN9m0vUs",
        "578E2V7j08f6",
        "89xtkJwZ18nB",
        "67NQN5KX2AMe",
        "Iwf50b-R2tYG",
        "GMQiZwjn3iu7",
        "WVIkgGqN3qsr",
        "XkPnILGE3zoT",
        "Hlsf0x5436Go",
        "mT9DMSJo4nBL",
        "c49ITxTc407N",
        "OeJFEK0N496M",
        "9ExmJH0g5HBk",
        "cJNqERVU536h",
        "k5UmGsbsOxih",
        "T0VqWOYE6DLQ",
        "qBMux9mC6MCf",
        "-oLEiFgy-5Pf",
        "C74aWNz2AliB",
        "2DejudWSA-a0",
        "pEMng2IbBLp7",
        "rAdphbQ9Bhjc",
        "TNVZ9zx19K6k",
        "nqoHp30x9hH9",
        "rMDnDkt2B6du",
        "yiiVWRdJDDil",
        "1UUpS68QDMuG",
        "kexQrXU-DjzY",
        "T5CmagL3EC8N",
        "BhH2vgX9EjGr",
        "qjKvONjwE8ra",
        "P1XJ9OREExlT",
        "VFOzZv6IFROw",
        "TIqpNgepFxVj",
        "VfCC591jGiD4",
        "OB4l2ZhMeS1U",
        "ArJBuiUVfxKd",
        "4qY1EAkEfxKe",
        "PiV4Ypx8fxKe",
        "TfvqoZmBfxKf",
        "dJ2tPlVmpsJ0",
        "JWYfwnehpsJ1",
        "-jK_YjpMpsJ2",
        "HAih1iBOpsJ2",
        "zVGeBEFhpsJ2",
        "bmKjuQ-FpsJ3",
        "Fze-IPXLpx6K",
        "7AN1z2sKpx6M",
        "9PIHJqyupx6M",
        "_-qAgymDpx6N",
        "Z-hykwinpx6N",
        "h_CCil-SKHpo",
        "cBFFvTBNJzUa",
        "HvGl1hHyA_VK",
        "EyNgTHvd2WFk",
        "KH5McJBi2d8v",
        "iW_Lq9qf2h6X",
        "-Kee-DAl2viO",
        "gCX9965dhzqZ",
        "gIfDvo9L0UH2"
      ],
      "include_colab_link": true
    },
    "kernelspec": {
      "name": "python3",
      "display_name": "Python 3"
    },
    "language_info": {
      "name": "python"
    }
  },
  "cells": [
    {
      "cell_type": "markdown",
      "metadata": {
        "id": "view-in-github",
        "colab_type": "text"
      },
      "source": [
        "<a href=\"https://colab.research.google.com/github/SSubhashReddy/AI-ML-project/blob/main/Another_copy_of_Sample_ML_Submission_Template_2.ipynb\" target=\"_parent\"><img src=\"https://colab.research.google.com/assets/colab-badge.svg\" alt=\"Open In Colab\"/></a>"
      ]
    },
    {
      "cell_type": "markdown",
      "source": [
        "# **Project Name**    -\n",
        "\n"
      ],
      "metadata": {
        "id": "vncDsAP0Gaoa"
      }
    },
    {
      "cell_type": "markdown",
      "source": [
        "##### **Project Type**    - EDA/Regression/Classification/Unsupervised\n",
        "##### **Contribution**    - Individual\n",
        "##### **Team Member 1 -**S.Venkata Subhash Reddy\n",
        "##### **Team Member 2 -**\n",
        "##### **Team Member 3 -**\n",
        "##### **Team Member 4 -**"
      ],
      "metadata": {
        "id": "beRrZCGUAJYm"
      }
    },
    {
      "cell_type": "markdown",
      "source": [
        "# **Project Summary -**"
      ],
      "metadata": {
        "id": "FJNUwmbgGyua"
      }
    },
    {
      "cell_type": "markdown",
      "source": [
        "In today’s digital age, the shift towards cashless transactions has transformed the way individuals and businesses manage financial operations. PhonePe, one of India’s leading digital payment platforms, plays a significant role in enabling secure, fast, and user-friendly payment services. Launched in 2016 and powered by the Unified Payments Interface (UPI), PhonePe has revolutionized the digital transaction ecosystem by allowing users to perform various financial activities such as money transfers, bill payments, mobile recharges, and merchant transactions through a single mobile application.\n",
        "\n",
        "This project focuses on the design, development, and analysis of a PhonePe-like digital payment system that supports seamless user interactions and transaction management. It aims to replicate core features such as UPI-based money transfers, wallet management, bank account linking, transaction history, and merchant payments. The project also highlights the implementation of security mechanisms like two-factor authentication, encryption, and transaction verification to ensure user data and financial details remain protected.\n",
        "\n",
        "Furthermore, the system architecture incorporates user roles including customers, merchants, and administrators, each with specific access rights and capabilities. Key modules such as user registration and login, bank account integration, real-time transaction status updates, QR code scanning for payments, and notifications are also integrated to provide a robust and user-centric experience.\n",
        "\n",
        "The objective of this project is not only to simulate real-world digital financial services but also to understand backend processes like database management, transaction logging, and failure handling. Technologies such as HTML5, CSS3, JavaScript (frontend), and Java/PHP with MySQL (backend) are employed to develop a functional prototype. The project serves as a practical case study in the fields of financial technology (FinTech), cybersecurity, and mobile application development, aligning with the growing demand for cashless and convenient payment solutions in modern society."
      ],
      "metadata": {
        "id": "F6v_1wHtG2nS"
      }
    },
    {
      "cell_type": "markdown",
      "source": [
        "# **GitHub Link -**"
      ],
      "metadata": {
        "id": "w6K7xa23Elo4"
      }
    },
    {
      "cell_type": "markdown",
      "source": [
        "Provide your GitHub Link here."
      ],
      "metadata": {
        "id": "h1o69JH3Eqqn"
      }
    },
    {
      "cell_type": "markdown",
      "source": [
        "# **Problem Statement**\n"
      ],
      "metadata": {
        "id": "yQaldy8SH6Dl"
      }
    },
    {
      "cell_type": "markdown",
      "source": [
        "* Rapid growth in digital payments has increased the demand for reliable and secure payment platforms.\n",
        "* Users face issues such as:\n",
        "\n",
        "  * Complicated user interfaces\n",
        "  * Frequent transaction failures\n",
        "  * Lack of integration for multiple financial services\n",
        "  * Security and privacy concerns\n",
        "* Merchants need a simplified way to accept digital payments and track transactions.\n",
        "* Existing systems often lack real-time updates and proper user feedback.\n",
        "* There is a need for a unified platform that provides:\n",
        "\n",
        "  * Seamless UPI-based transactions\n",
        "  * Bill payments and mobile recharges\n",
        "  * Bank account and wallet integration\n",
        "  * Robust data protection and user authentication\n",
        "* The goal is to develop a PhonePe-like system that addresses these issues and enhances digital payment experiences for both users and merchants."
      ],
      "metadata": {
        "id": "DpeJGUA3kjGy"
      }
    },
    {
      "cell_type": "markdown",
      "source": [
        "# **General Guidelines** : -  "
      ],
      "metadata": {
        "id": "mDgbUHAGgjLW"
      }
    },
    {
      "cell_type": "markdown",
      "source": [
        "1.   Well-structured, formatted, and commented code is required.\n",
        "2.   Exception Handling, Production Grade Code & Deployment Ready Code will be a plus. Those students will be awarded some additional credits.\n",
        "     \n",
        "     The additional credits will have advantages over other students during Star Student selection.\n",
        "       \n",
        "             [ Note: - Deployment Ready Code is defined as, the whole .ipynb notebook should be executable in one go\n",
        "                       without a single error logged. ]\n",
        "\n",
        "3.   Each and every logic should have proper comments.\n",
        "4. You may add as many number of charts you want. Make Sure for each and every chart the following format should be answered.\n",
        "        \n",
        "\n",
        "```\n",
        "# Chart visualization code\n",
        "```\n",
        "            \n",
        "\n",
        "*   Why did you pick the specific chart?\n",
        "*   What is/are the insight(s) found from the chart?\n",
        "* Will the gained insights help creating a positive business impact?\n",
        "Are there any insights that lead to negative growth? Justify with specific reason.\n",
        "\n",
        "5. You have to create at least 15 logical & meaningful charts having important insights.\n",
        "\n",
        "\n",
        "[ Hints : - Do the Vizualization in  a structured way while following \"UBM\" Rule.\n",
        "\n",
        "U - Univariate Analysis,\n",
        "\n",
        "B - Bivariate Analysis (Numerical - Categorical, Numerical - Numerical, Categorical - Categorical)\n",
        "\n",
        "M - Multivariate Analysis\n",
        " ]\n",
        "\n",
        "\n",
        "\n",
        "\n",
        "\n",
        "6. You may add more ml algorithms for model creation. Make sure for each and every algorithm, the following format should be answered.\n",
        "\n",
        "\n",
        "*   Explain the ML Model used and it's performance using Evaluation metric Score Chart.\n",
        "\n",
        "\n",
        "*   Cross- Validation & Hyperparameter Tuning\n",
        "\n",
        "*   Have you seen any improvement? Note down the improvement with updates Evaluation metric Score Chart.\n",
        "\n",
        "*   Explain each evaluation metric's indication towards business and the business impact pf the ML model used.\n",
        "\n",
        "\n",
        "\n",
        "\n",
        "\n",
        "\n",
        "\n",
        "\n",
        "\n",
        "\n",
        "\n",
        "\n",
        "\n",
        "\n",
        "\n",
        "\n",
        "\n",
        "\n"
      ],
      "metadata": {
        "id": "ZrxVaUj-hHfC"
      }
    },
    {
      "cell_type": "markdown",
      "source": [
        "# ***Let's Begin !***"
      ],
      "metadata": {
        "id": "O_i_v8NEhb9l"
      }
    },
    {
      "cell_type": "markdown",
      "source": [
        "## ***1. Know Your Data***"
      ],
      "metadata": {
        "id": "HhfV-JJviCcP"
      }
    },
    {
      "cell_type": "markdown",
      "source": [
        "### Import Libraries"
      ],
      "metadata": {
        "id": "Y3lxredqlCYt"
      }
    },
    {
      "cell_type": "code",
      "source": [
        "import pandas as pd\n",
        "import numpy as np\n",
        "import matplotlib.pyplot as plt\n",
        "import seaborn as sns\n",
        "import warnings\n",
        "warnings.filterwarnings('ignore')"
      ],
      "metadata": {
        "id": "M8Vqi-pPk-HR"
      },
      "execution_count": null,
      "outputs": []
    },
    {
      "cell_type": "markdown",
      "source": [
        "### Dataset Loading"
      ],
      "metadata": {
        "id": "3RnN4peoiCZX"
      }
    },
    {
      "cell_type": "code",
      "source": [
        "# Load Dataset\n",
        "from google.colab import drive\n",
        "drive.mount('/content/drive')"
      ],
      "metadata": {
        "id": "4CkvbW_SlZ_R"
      },
      "execution_count": null,
      "outputs": []
    },
    {
      "cell_type": "code",
      "source": [
        "import pandas as pd\n",
        "\n",
        "try:\n",
        "    df = pd.read_excel('/content/aggregated.csv.xlsx')\n",
        "except FileNotFoundError:\n",
        "    print(\"Error: The file '/content/aggregated.csv.xlsx' was not found.\")\n",
        "    print(\"Please verify the file path and ensure the file exists and is correctly named.\")"
      ],
      "metadata": {
        "id": "iu_Gt1sohCe7"
      },
      "execution_count": null,
      "outputs": []
    },
    {
      "cell_type": "markdown",
      "source": [
        "### Dataset First View"
      ],
      "metadata": {
        "id": "x71ZqKXriCWQ"
      }
    },
    {
      "cell_type": "code",
      "source": [
        "# Dataset First Look\n",
        "df.head()"
      ],
      "metadata": {
        "id": "LWNFOSvLl09H"
      },
      "execution_count": null,
      "outputs": []
    },
    {
      "cell_type": "markdown",
      "source": [
        "### Dataset Rows & Columns count"
      ],
      "metadata": {
        "id": "7hBIi_osiCS2"
      }
    },
    {
      "cell_type": "code",
      "source": [
        "# Dataset Rows & Columns count\n",
        "df.shape"
      ],
      "metadata": {
        "id": "Kllu7SJgmLij"
      },
      "execution_count": null,
      "outputs": []
    },
    {
      "cell_type": "markdown",
      "source": [
        "### Dataset Information"
      ],
      "metadata": {
        "id": "JlHwYmJAmNHm"
      }
    },
    {
      "cell_type": "code",
      "source": [
        "# Dataset Info\n",
        "display(df.info())"
      ],
      "metadata": {
        "id": "e9hRXRi6meOf"
      },
      "execution_count": null,
      "outputs": []
    },
    {
      "cell_type": "markdown",
      "source": [
        "#### Duplicate Values"
      ],
      "metadata": {
        "id": "35m5QtbWiB9F"
      }
    },
    {
      "cell_type": "code",
      "source": [
        "# Dataset Duplicate Value Count\n",
        "print(f\"Number of duplicate rows: {df.duplicated().sum()}\")"
      ],
      "metadata": {
        "id": "1sLdpKYkmox0"
      },
      "execution_count": null,
      "outputs": []
    },
    {
      "cell_type": "markdown",
      "source": [
        "#### Missing Values/Null Values"
      ],
      "metadata": {
        "id": "PoPl-ycgm1ru"
      }
    },
    {
      "cell_type": "code",
      "source": [
        "# Missing Values/Null Values Count\n",
        "print(\"Missing values per column:\")\n",
        "display(df.isnull().sum())"
      ],
      "metadata": {
        "id": "GgHWkxvamxVg"
      },
      "execution_count": null,
      "outputs": []
    },
    {
      "cell_type": "code",
      "source": [
        "# Visualizing the missing values\n",
        "sns.heatmap(df.isnull(), cbar=False, cmap='viridis')\n",
        "plt.title('Missing Values Heatmap')\n",
        "plt.show()"
      ],
      "metadata": {
        "id": "3q5wnI3om9sJ"
      },
      "execution_count": null,
      "outputs": []
    },
    {
      "cell_type": "markdown",
      "source": [
        "### What did you know about your dataset?"
      ],
      "metadata": {
        "id": "H0kj-8xxnORC"
      }
    },
    {
      "cell_type": "markdown",
      "source": [
        "It has 21616 rows and 28 columns.\n",
        "\n",
        "There are no duplicate rows.\n",
        "\n",
        "There are a significant number of missing values in many columns, particularly id, state, year, quarter, transaction_type, transaction_count, transaction_amount, registeredUsers, appOpens, brand, userPercentage, userCount, name, type, count, amount, state.1, district, pincode, year.1, quarter.1, count.1, and amount.1.\n",
        "\n",
        "The columns have a mix of data types: float64 (17), int64 (2), and object (9)."
      ],
      "metadata": {
        "id": "gfoNAAC-nUe_"
      }
    },
    {
      "cell_type": "markdown",
      "source": [
        "## ***2. Understanding Your Variables***"
      ],
      "metadata": {
        "id": "nA9Y7ga8ng1Z"
      }
    },
    {
      "cell_type": "code",
      "source": [
        "# Dataset Columns\n",
        "print(\"Dataset columns:\")\n",
        "display(df.columns)"
      ],
      "metadata": {
        "id": "j7xfkqrt5Ag5"
      },
      "execution_count": null,
      "outputs": []
    },
    {
      "cell_type": "code",
      "source": [
        "# Dataset Describe\n",
        "display(df.describe())"
      ],
      "metadata": {
        "id": "DnOaZdaE5Q5t"
      },
      "execution_count": null,
      "outputs": []
    },
    {
      "cell_type": "markdown",
      "source": [
        "### Variables Description"
      ],
      "metadata": {
        "id": "PBTbrJXOngz2"
      }
    },
    {
      "cell_type": "markdown",
      "source": [
        "id: Unique identifier for each record.\n",
        "\n",
        "state: State in India.\n",
        "\n",
        "year: Year of data.\n",
        "\n",
        "quarter: Quarter of the year.\n",
        "\n",
        "transaction_type: Type of transaction (e.g., Recharge & bill payments, Peer-to-peer payments).\n",
        "\n",
        "transaction_count: Number of transactions.\n",
        "\n",
        "transaction_amount: Total amount of transactions.\n",
        "\n",
        "registeredUsers: Number of registered users.\n",
        "\n",
        "appOpens: Number of app opens.\n",
        "\n",
        "brand: Mobile phone brand.\n",
        "\n",
        "userPercentage: Percentage of users.\n",
        "userCount: Count of users.\n",
        "\n",
        "registered_users: Number of registered users (another column with similar information).\n",
        "app_opens: Number of app opens (another column with similar information).\n",
        "\n",
        "name: Name (likely related to geographical entities).\n",
        "\n",
        "type: Type (likely related to geographical entities).\n",
        "\n",
        "count: Count (likely related to geographical entities).\n",
        "\n",
        "amount: Amount (likely related to geographical entities).\n",
        "\n",
        "level: Geographical level (e.g., state, district).\n",
        "entity_name: Name of the geographical entity.\n",
        "\n",
        "registered_users.1: Number of registered users (another column with similar information).\n",
        "state.1: State (another column with similar information).\n",
        "\n",
        "district: District.\n",
        "\n",
        "pincode: Pincode.\n",
        "\n",
        "year.1: Year (another column with similar information).\n",
        "\n",
        "quarter.1: Quarter (another column with similar information).\n",
        "\n",
        "count.1: Count (another column with similar information).\n",
        "\n",
        "amount.1: Amount (another column with similar information)."
      ],
      "metadata": {
        "id": "aJV4KIxSnxay"
      }
    },
    {
      "cell_type": "markdown",
      "source": [
        "### Check Unique Values for each variable."
      ],
      "metadata": {
        "id": "u3PMJOP6ngxN"
      }
    },
    {
      "cell_type": "code",
      "source": [
        "# Check Unique Values for each variable.\n",
        "for col in df.columns:\n",
        "    print(f\"Column '{col}': {df[col].nunique()} unique values\")"
      ],
      "metadata": {
        "id": "zms12Yq5n-jE"
      },
      "execution_count": null,
      "outputs": []
    },
    {
      "cell_type": "markdown",
      "source": [
        "## 3. ***Data Wrangling***"
      ],
      "metadata": {
        "id": "dauF4eBmngu3"
      }
    },
    {
      "cell_type": "markdown",
      "source": [
        "### Data Wrangling Code"
      ],
      "metadata": {
        "id": "bKJF3rekwFvQ"
      }
    },
    {
      "cell_type": "code",
      "source": [
        "# Write your code to make your dataset analysis ready.\n",
        "# This might include handling missing values, outliers, or transforming data.\n",
        "threshold = 0.5 * len(df)\n",
        "df.dropna(axis=1, thresh=threshold, inplace=True)\n",
        "for col in df.select_dtypes(include=np.number).columns:\n",
        "    if df[col].isnull().sum() > 0:\n",
        "        df[col].fillna(df[col].mean(), inplace=True)\n",
        "for col in df.select_dtypes(include='object').columns:\n",
        "    if df[col].isnull().sum() > 0:\n",
        "        df[col].fillna(df[col].mode()[0], inplace=True)\n",
        "print(\"Missing values after handling:\")\n",
        "display(df.isnull().sum())"
      ],
      "metadata": {
        "id": "wk-9a2fpoLcV"
      },
      "execution_count": null,
      "outputs": []
    },
    {
      "cell_type": "markdown",
      "source": [
        "### What all manipulations have you done and insights you found?"
      ],
      "metadata": {
        "id": "MSa1f5Uengrz"
      }
    },
    {
      "cell_type": "markdown",
      "source": [
        "First, I removed columns where more than half of the values were missing. Then, for the remaining columns, I filled the missing numerical values with the mean of the column and the missing categorical values with the mode of the column.\n",
        "\n",
        "After handling the missing values, all columns that remained in the DataFrame have no missing values."
      ],
      "metadata": {
        "id": "LbyXE7I1olp8"
      }
    },
    {
      "cell_type": "markdown",
      "source": [
        "## ***4. Data Vizualization, Storytelling & Experimenting with charts : Understand the relationships between variables***"
      ],
      "metadata": {
        "id": "GF8Ens_Soomf"
      }
    },
    {
      "cell_type": "markdown",
      "source": [
        "#### Chart - 1"
      ],
      "metadata": {
        "id": "0wOQAZs5pc--"
      }
    },
    {
      "cell_type": "code",
      "source": [
        "# Chart - 1 visualization code\n",
        "\n",
        "df['date'] = pd.to_datetime(df['year.1'].astype(int).astype(str) + 'Q' + df['quarter.1'].astype(int).astype(str))\n",
        "\n",
        "# Group by date and sum the transaction amount\n",
        "transaction_over_time = df.groupby('date')['amount.1'].sum().reset_index()\n",
        "\n",
        "# Plotting the total transaction amount over time\n",
        "plt.figure(figsize=(12, 6))\n",
        "sns.lineplot(data=transaction_over_time, x='date', y='amount.1')\n",
        "plt.title('Total Transaction Amount Over Time')\n",
        "plt.xlabel('Date')\n",
        "plt.ylabel('Total Transaction Amount')\n",
        "plt.xticks(rotation=45)\n",
        "plt.tight_layout()\n",
        "plt.show()"
      ],
      "metadata": {
        "id": "7v_ESjsspbW7"
      },
      "execution_count": null,
      "outputs": []
    },
    {
      "cell_type": "markdown",
      "source": [
        "##### 1. Why did you pick the specific chart?"
      ],
      "metadata": {
        "id": "K5QZ13OEpz2H"
      }
    },
    {
      "cell_type": "markdown",
      "source": [
        "This line chart was chosen to clearly show the trend of total transaction amount over time, making it easy to spot anomalies, seasonal patterns, and long-term growth or decline.\n",
        "\n"
      ],
      "metadata": {
        "id": "XESiWehPqBRc"
      }
    },
    {
      "cell_type": "markdown",
      "source": [
        "##### 2. What is/are the insight(s) found from the chart?"
      ],
      "metadata": {
        "id": "lQ7QKXXCp7Bj"
      }
    },
    {
      "cell_type": "markdown",
      "source": [
        "There is a significant spike around early 2022, followed by a sharp drop.\n",
        "\n",
        "After the spike, the transaction amounts remained relatively stable but lower than the peak.\n",
        "\n",
        "A gradual upward trend is seen post-2023."
      ],
      "metadata": {
        "id": "C_j1G7yiqdRP"
      }
    },
    {
      "cell_type": "markdown",
      "source": [
        "##### 3. Will the gained insights help creating a positive business impact?\n",
        "Are there any insights that lead to negative growth? Justify with specific reason."
      ],
      "metadata": {
        "id": "448CDAPjqfQr"
      }
    },
    {
      "cell_type": "markdown",
      "source": [
        "**Positive Impact:**\n",
        "\n",
        "Identifying the spike helps investigate what caused the surge (e.g., promotions, new features, market expansion).\n",
        "\n",
        "The gradual growth suggests increasing user engagement or transaction volume, which is promising for scaling.\n",
        "\n",
        "**Negative Insight:**\n",
        "\n",
        "The sharp drop after the spike may indicate a one-time event or unsustainable strategy. If not addressed, it could harm user retention or market trust."
      ],
      "metadata": {
        "id": "3cspy4FjqxJW"
      }
    },
    {
      "cell_type": "markdown",
      "source": [
        "#### Chart - 2"
      ],
      "metadata": {
        "id": "KSlN3yHqYklG"
      }
    },
    {
      "cell_type": "code",
      "source": [
        "# Chart - 2 visualization code\n",
        "\n",
        "# Group by state and sum the registered users (using 'registered_users.1' as it has fewer missing values)\n",
        "registered_users_by_state = df.groupby('state.1')['registered_users.1'].sum().reset_index()\n",
        "\n",
        "# Sort for better visualization\n",
        "registered_users_by_state = registered_users_by_state.sort_values(by='registered_users.1', ascending=False)\n",
        "\n",
        "# Plotting the distribution of registered users by state\n",
        "plt.figure(figsize=(14, 7))\n",
        "sns.barplot(data=registered_users_by_state, x='state.1', y='registered_users.1', palette='viridis')\n",
        "plt.title('Total Registered Users by State')\n",
        "plt.xlabel('State')\n",
        "plt.ylabel('Total Registered Users')\n",
        "plt.xticks(rotation=90)\n",
        "plt.tight_layout()\n",
        "plt.show()"
      ],
      "metadata": {
        "id": "R4YgtaqtYklH"
      },
      "execution_count": null,
      "outputs": []
    },
    {
      "cell_type": "markdown",
      "source": [
        "##### 1. Why did you pick the specific chart?"
      ],
      "metadata": {
        "id": "t6dVpIINYklI"
      }
    },
    {
      "cell_type": "markdown",
      "source": [
        "This horizontal bar chart is ideal for comparing total registered users across different states. It makes it easy to spot which states dominate and which lag behind in user registration."
      ],
      "metadata": {
        "id": "5aaW0BYyYklI"
      }
    },
    {
      "cell_type": "markdown",
      "source": [
        "##### 2. What is/are the insight(s) found from the chart?"
      ],
      "metadata": {
        "id": "ijmpgYnKYklI"
      }
    },
    {
      "cell_type": "markdown",
      "source": [
        "Karnataka leads with a massive margin in user registrations.\n",
        "\n",
        "Other states like Andaman & Nicobar, Telangana, Andhra Pradesh, and Maharashtra follow but with much lower counts.\n",
        "\n",
        "States like Punjab, Uttarakhand, and Tripura have significantly fewer users."
      ],
      "metadata": {
        "id": "PSx9atu2YklI"
      }
    },
    {
      "cell_type": "markdown",
      "source": [
        "##### 3. Will the gained insights help creating a positive business impact?\n",
        "Are there any insights that lead to negative growth? Justify with specific reason."
      ],
      "metadata": {
        "id": "-JiQyfWJYklI"
      }
    },
    {
      "cell_type": "markdown",
      "source": [
        "**Positive Impact:**\n",
        "\n",
        "Focus can be placed on high-performing states (like Karnataka) for further product engagement, loyalty programs, or upselling.\n",
        "\n",
        "Targeted marketing can be planned for underperforming regions to increase adoption.\n",
        "\n",
        "**Negative Insight:**\n",
        "\n",
        "Low user base in several states could indicate lack of awareness, poor infrastructure, or low trust, which may limit growth if not addressed."
      ],
      "metadata": {
        "id": "BcBbebzrYklV"
      }
    },
    {
      "cell_type": "markdown",
      "source": [
        "#### Chart - 3"
      ],
      "metadata": {
        "id": "EM7whBJCYoAo"
      }
    },
    {
      "cell_type": "code",
      "source": [
        "# Chart - 3 visualization code\n",
        "\n",
        "# Group by state.1 and calculate the average transaction amount.1\n",
        "average_transaction_amount_by_state = df.groupby('state.1')['amount.1'].mean().reset_index()\n",
        "\n",
        "# Sort for better visualization\n",
        "average_transaction_amount_by_state = average_transaction_amount_by_state.sort_values(by='amount.1', ascending=False)\n",
        "\n",
        "# Plotting the average transaction amount by state\n",
        "plt.figure(figsize=(14, 7))\n",
        "sns.barplot(data=average_transaction_amount_by_state, x='state.1', y='amount.1', palette='viridis')\n",
        "plt.title('Average Transaction Amount by State')\n",
        "plt.xlabel('State')\n",
        "plt.ylabel('Average Transaction Amount')\n",
        "plt.xticks(rotation=90, ha='right')\n",
        "plt.tight_layout()\n",
        "plt.show()"
      ],
      "metadata": {
        "id": "t6GMdE67YoAp"
      },
      "execution_count": null,
      "outputs": []
    },
    {
      "cell_type": "markdown",
      "source": [
        "##### 1. Why did you pick the specific chart?"
      ],
      "metadata": {
        "id": "fge-S5ZAYoAp"
      }
    },
    {
      "cell_type": "markdown",
      "source": [
        "This chart effectively shows the Average Transaction Amount by State, helping to identify regions with high-value users and those needing improvement."
      ],
      "metadata": {
        "id": "5dBItgRVYoAp"
      }
    },
    {
      "cell_type": "markdown",
      "source": [
        "##### 2. What is/are the insight(s) found from the chart?"
      ],
      "metadata": {
        "id": "85gYPyotYoAp"
      }
    },
    {
      "cell_type": "markdown",
      "source": [
        "Uttar Pradesh, Tamil Nadu, and West Bengal have the highest average transaction amounts.\n",
        "\n",
        "Several states show very low averages, indicating possible limited user spending or low transaction frequency."
      ],
      "metadata": {
        "id": "4jstXR6OYoAp"
      }
    },
    {
      "cell_type": "markdown",
      "source": [
        "##### 3. Will the gained insights help creating a positive business impact?\n",
        "Are there any insights that lead to negative growth? Justify with specific reason."
      ],
      "metadata": {
        "id": "RoGjAbkUYoAp"
      }
    },
    {
      "cell_type": "markdown",
      "source": [
        "**Positive Impact:**\n",
        "\n",
        "High-value states can be targeted for premium services, financial products, or higher-tier offerings.\n",
        "\n",
        "Helps in revenue-focused regional segmentation and prioritizing investment.\n",
        "\n",
        "**Negative Insight:**\n",
        "\n",
        "Low average transaction states may reflect weak digital adoption, low trust, or economic barriers, possibly slowing growth."
      ],
      "metadata": {
        "id": "zfJ8IqMcYoAp"
      }
    },
    {
      "cell_type": "markdown",
      "source": [
        "#### Chart - 4"
      ],
      "metadata": {
        "id": "4Of9eVA-YrdM"
      }
    },
    {
      "cell_type": "code",
      "source": [
        "# Chart - 4 visualization code\n",
        "\n",
        "# Plotting the relationship between registered users and app opens\n",
        "plt.figure(figsize=(10, 6))\n",
        "sns.scatterplot(data=df, x='registered_users', y='app_opens', alpha=0.6)\n",
        "plt.title('Relationship between Registered Users and App Opens')\n",
        "plt.xlabel('Registered Users')\n",
        "plt.ylabel('App Opens')\n",
        "plt.tight_layout()\n",
        "plt.show()"
      ],
      "metadata": {
        "id": "irlUoxc8YrdO"
      },
      "execution_count": null,
      "outputs": []
    },
    {
      "cell_type": "markdown",
      "source": [
        "##### 1. Why did you pick the specific chart?"
      ],
      "metadata": {
        "id": "iky9q4vBYrdO"
      }
    },
    {
      "cell_type": "markdown",
      "source": [
        "This scatter plot is ideal for visualizing the relationship between registered users and app opens, revealing patterns of user engagement and app usage intensity."
      ],
      "metadata": {
        "id": "aJRCwT6DYrdO"
      }
    },
    {
      "cell_type": "markdown",
      "source": [
        "##### 2. What is/are the insight(s) found from the chart?"
      ],
      "metadata": {
        "id": "F6T5p64dYrdO"
      }
    },
    {
      "cell_type": "markdown",
      "source": [
        "There is a positive correlation: more registered users generally lead to more app opens.\n",
        "\n",
        "Some points deviate, showing high engagement despite fewer users, or many users but low engagement."
      ],
      "metadata": {
        "id": "Xx8WAJvtYrdO"
      }
    },
    {
      "cell_type": "markdown",
      "source": [
        "##### 3. Will the gained insights help creating a positive business impact?\n",
        "Are there any insights that lead to negative growth? Justify with specific reason."
      ],
      "metadata": {
        "id": "y-Ehk30pYrdP"
      }
    },
    {
      "cell_type": "markdown",
      "source": [
        "**Positive Impact:**\n",
        "\n",
        "Helps identify regions with strong user engagement, ideal for promoting new features or monetization.\n",
        "\n",
        "Points with high app opens per user suggest effective onboarding or app utility.\n",
        "\n",
        "**Negative Insight:**\n",
        "\n",
        "Points with low app opens despite high registrations indicate inactive users or poor retention, requiring user re-engagement strategies."
      ],
      "metadata": {
        "id": "jLNxxz7MYrdP"
      }
    },
    {
      "cell_type": "markdown",
      "source": [
        "#### Chart - 5"
      ],
      "metadata": {
        "id": "bamQiAODYuh1"
      }
    },
    {
      "cell_type": "code",
      "source": [
        "# Chart - 5 visualization code\n",
        "\n",
        "# Plotting the distribution of transaction amount by level\n",
        "plt.figure(figsize=(10, 6))\n",
        "sns.boxplot(data=df, x='level', y='amount.1', palette='plasma')\n",
        "plt.title('Distribution of Transaction Amount by Level')\n",
        "plt.xlabel('Level')\n",
        "plt.ylabel('Transaction Amount')\n",
        "plt.tight_layout()\n",
        "plt.show()"
      ],
      "metadata": {
        "id": "TIJwrbroYuh3"
      },
      "execution_count": null,
      "outputs": []
    },
    {
      "cell_type": "markdown",
      "source": [
        "##### 1. Why did you pick the specific chart?"
      ],
      "metadata": {
        "id": "QHF8YVU7Yuh3"
      }
    },
    {
      "cell_type": "markdown",
      "source": [
        "This box plot was chosen to compare the distribution of transaction amounts across geographic levels (state, district, and pincode), revealing variability and outliers clearly."
      ],
      "metadata": {
        "id": "dcxuIMRPYuh3"
      }
    },
    {
      "cell_type": "markdown",
      "source": [
        "##### 2. What is/are the insight(s) found from the chart?"
      ],
      "metadata": {
        "id": "GwzvFGzlYuh3"
      }
    },
    {
      "cell_type": "markdown",
      "source": [
        "States show the highest variation and transaction volume, with many high-value outliers.\n",
        "\n",
        "Districts and pincodes have lower medians and tighter ranges, but also include outliers.\n",
        "\n",
        "Overall, transaction amounts drop significantly from state to pincode level."
      ],
      "metadata": {
        "id": "uyqkiB8YYuh3"
      }
    },
    {
      "cell_type": "markdown",
      "source": [
        "##### 3. Will the gained insights help creating a positive business impact?\n",
        "Are there any insights that lead to negative growth? Justify with specific reason."
      ],
      "metadata": {
        "id": "qYpmQ266Yuh3"
      }
    },
    {
      "cell_type": "markdown",
      "source": [
        "**Positive Impact:**\n",
        "\n",
        "Helps understand where the bulk of large transactions occur (mainly at state level).\n",
        "\n",
        "Aids in targeting high-value regions and refining geo-targeted campaigns.\n",
        "\n",
        "**Negative Insight:**\n",
        "\n",
        "Low transaction spread at district/pincode level may reflect uneven digital adoption or infrastructure issues, limiting growth at the grassroots."
      ],
      "metadata": {
        "id": "_WtzZ_hCYuh4"
      }
    },
    {
      "cell_type": "markdown",
      "source": [
        "#### Chart - 6"
      ],
      "metadata": {
        "id": "OH-pJp9IphqM"
      }
    },
    {
      "cell_type": "code",
      "source": [
        "# Chart - 6 visualization code\n",
        "\n",
        "# Group by date (year.1 and quarter.1) and sum the registered users\n",
        "registered_users_over_time = df.groupby('date')['registered_users.1'].sum().reset_index()\n",
        "\n",
        "# Plotting the total registered users over time\n",
        "plt.figure(figsize=(12, 6))\n",
        "sns.lineplot(data=registered_users_over_time, x='date', y='registered_users.1', marker='o')\n",
        "plt.title('Total Registered Users Over Time')\n",
        "plt.xlabel('Date')\n",
        "plt.ylabel('Total Registered Users')\n",
        "plt.xticks(rotation=45)\n",
        "plt.tight_layout()\n",
        "plt.show()"
      ],
      "metadata": {
        "id": "kuRf4wtuphqN"
      },
      "execution_count": null,
      "outputs": []
    },
    {
      "cell_type": "markdown",
      "source": [
        "##### 1. Why did you pick the specific chart?"
      ],
      "metadata": {
        "id": "bbFf2-_FphqN"
      }
    },
    {
      "cell_type": "markdown",
      "source": [
        "This line chart is ideal for showing how total registered users changed over time, helping identify spikes, dips, or long-term trends."
      ],
      "metadata": {
        "id": "loh7H2nzphqN"
      }
    },
    {
      "cell_type": "markdown",
      "source": [
        "##### 2. What is/are the insight(s) found from the chart?"
      ],
      "metadata": {
        "id": "_ouA3fa0phqN"
      }
    },
    {
      "cell_type": "markdown",
      "source": [
        "A sharp spike in early 2022, followed by a steep drop.\n",
        "\n",
        "Apart from that, user registration remained fairly stable with mild fluctuations across other periods.\n",
        "\n"
      ],
      "metadata": {
        "id": "VECbqPI7phqN"
      }
    },
    {
      "cell_type": "markdown",
      "source": [
        "##### 3. Will the gained insights help creating a positive business impact?\n",
        "Are there any insights that lead to negative growth? Justify with specific reason."
      ],
      "metadata": {
        "id": "Seke61FWphqN"
      }
    },
    {
      "cell_type": "markdown",
      "source": [
        "**Positive Impact:**\n",
        "\n",
        "The early 2022 spike can be analyzed to understand what campaign or event triggered it—this learning can be reused.\n",
        "\n",
        "Stable user growth in recent months shows consistent market interest.\n",
        "\n",
        "**Negative Insight:**\n",
        "\n",
        "The drop right after the spike may indicate a lack of sustained engagement or over-reporting, which can hurt long-term user retention."
      ],
      "metadata": {
        "id": "DW4_bGpfphqN"
      }
    },
    {
      "cell_type": "markdown",
      "source": [
        "#### Chart - 7"
      ],
      "metadata": {
        "id": "PIIx-8_IphqN"
      }
    },
    {
      "cell_type": "code",
      "source": [
        "# Chart - 7 visualization code\n",
        "\n",
        "# Group by entity name and sum the transaction amount.1\n",
        "entity_transaction_amount = df.groupby('entity_name')['amount.1'].sum().reset_index()\n",
        "\n",
        "# Sort and get the top 10 entities\n",
        "top_10_entities = entity_transaction_amount.sort_values(by='amount.1', ascending=False).head(10)\n",
        "\n",
        "# Plotting the top 10 entities by total transaction amount\n",
        "plt.figure(figsize=(12, 7))\n",
        "sns.barplot(data=top_10_entities, x='entity_name', y='amount.1', palette='crest')\n",
        "plt.title('Top 10 Entities by Total Transaction Amount')\n",
        "plt.xlabel('Entity Name')\n",
        "plt.ylabel('Total Transaction Amount')\n",
        "plt.xticks(rotation=45, ha='right')\n",
        "plt.tight_layout()\n",
        "plt.show()"
      ],
      "metadata": {
        "id": "lqAIGUfyphqO"
      },
      "execution_count": null,
      "outputs": []
    },
    {
      "cell_type": "markdown",
      "source": [
        "##### 1. Why did you pick the specific chart?"
      ],
      "metadata": {
        "id": "t27r6nlMphqO"
      }
    },
    {
      "cell_type": "markdown",
      "source": [
        "This bar chart clearly shows the top 10 entities by total transaction amount, making it easy to identify the most economically active regions."
      ],
      "metadata": {
        "id": "iv6ro40sphqO"
      }
    },
    {
      "cell_type": "markdown",
      "source": [
        "##### 2. What is/are the insight(s) found from the chart?"
      ],
      "metadata": {
        "id": "r2jJGEOYphqO"
      }
    },
    {
      "cell_type": "markdown",
      "source": [
        "Bengaluru Urban dominates by a huge margin, followed by Maharashtra and Uttar Pradesh.\n",
        "\n",
        "The remaining entities show relatively balanced but much lower transaction volumes.\n",
        "\n",
        "A mix of states and cities appear, highlighting urban contribution to high-value transactions."
      ],
      "metadata": {
        "id": "Po6ZPi4hphqO"
      }
    },
    {
      "cell_type": "markdown",
      "source": [
        "##### 3. Will the gained insights help creating a positive business impact?\n",
        "Are there any insights that lead to negative growth? Justify with specific reason."
      ],
      "metadata": {
        "id": "b0JNsNcRphqO"
      }
    },
    {
      "cell_type": "markdown",
      "source": [
        "**Positive Impact:**\n",
        "\n",
        "Bengaluru Urban’s dominance signals a strong user base and transaction frequency—ideal for premium services or early launches.\n",
        "\n",
        "Identifying top-performing entities helps in strategic resource allocation and partnership building.\n",
        "\n",
        "**Negative Insight:**\n",
        "\n",
        "Heavy reliance on one region (Bengaluru) can be risky—regional imbalance may affect stability if trends shift or saturation occurs."
      ],
      "metadata": {
        "id": "xvSq8iUTphqO"
      }
    },
    {
      "cell_type": "markdown",
      "source": [
        "#### Chart - 8"
      ],
      "metadata": {
        "id": "BZR9WyysphqO"
      }
    },
    {
      "cell_type": "code",
      "source": [
        "# Chart - 8 visualization code\n",
        "\n",
        "# Plotting the relationship between app opens and transaction count\n",
        "plt.figure(figsize=(10, 6))\n",
        "sns.scatterplot(data=df, x='app_opens', y='count.1', alpha=0.6)\n",
        "plt.title('Relationship between App Opens and Transaction Count')\n",
        "plt.xlabel('App Opens')\n",
        "plt.ylabel('Transaction Count')\n",
        "plt.tight_layout()\n",
        "plt.show()"
      ],
      "metadata": {
        "id": "TdPTWpAVphqO"
      },
      "execution_count": null,
      "outputs": []
    },
    {
      "cell_type": "markdown",
      "source": [
        "##### 1. Why did you pick the specific chart?"
      ],
      "metadata": {
        "id": "jj7wYXLtphqO"
      }
    },
    {
      "cell_type": "markdown",
      "source": [
        "This scatter plot is well-suited to examine the relationship between app opens and transaction count, allowing visibility into user engagement vs. actual transaction behavior."
      ],
      "metadata": {
        "id": "Ob8u6rCTphqO"
      }
    },
    {
      "cell_type": "markdown",
      "source": [
        "##### 2. What is/are the insight(s) found from the chart?"
      ],
      "metadata": {
        "id": "eZrbJ2SmphqO"
      }
    },
    {
      "cell_type": "markdown",
      "source": [
        "Most data points cluster near the low app opens and low transaction count region.\n",
        "\n",
        "Some users with high transaction counts have relatively fewer app opens, suggesting efficient usage.\n",
        "\n",
        "No clear strong linear correlation—app opens don't necessarily increase transaction counts."
      ],
      "metadata": {
        "id": "mZtgC_hjphqO"
      }
    },
    {
      "cell_type": "markdown",
      "source": [
        "##### 3. Will the gained insights help creating a positive business impact?\n",
        "Are there any insights that lead to negative growth? Justify with specific reason."
      ],
      "metadata": {
        "id": "rFu4xreNphqO"
      }
    },
    {
      "cell_type": "markdown",
      "source": [
        "**Positive Impact:**\n",
        "\n",
        "Identifies high-converting users (high transactions with fewer opens), valuable for retention and rewards.\n",
        "\n",
        "Highlights need for UX improvement or feature discoverability for users with frequent app opens but low transactions.\n",
        "\n",
        "**Negative Insight:**\n",
        "\n",
        "Many users open the app often but do not transact, pointing to engagement without conversion—a sign of possible confusion, friction, or unmet needs."
      ],
      "metadata": {
        "id": "ey_0qi68phqO"
      }
    },
    {
      "cell_type": "markdown",
      "source": [
        "#### Chart - 9"
      ],
      "metadata": {
        "id": "YJ55k-q6phqO"
      }
    },
    {
      "cell_type": "code",
      "source": [
        "# Chart - 9 visualization code\n",
        "\n",
        "# Plotting the relationship between registered users and transaction amount\n",
        "plt.figure(figsize=(10, 6))\n",
        "sns.scatterplot(data=df, x='registered_users.1', y='amount.1', alpha=0.6)\n",
        "plt.title('Relationship between Registered Users and Transaction Amount')\n",
        "plt.xlabel('Registered Users')\n",
        "plt.ylabel('Transaction Amount')\n",
        "plt.tight_layout()\n",
        "plt.show()"
      ],
      "metadata": {
        "id": "B2aS4O1ophqO"
      },
      "execution_count": null,
      "outputs": []
    },
    {
      "cell_type": "markdown",
      "source": [
        "##### 1. Why did you pick the specific chart?"
      ],
      "metadata": {
        "id": "gCFgpxoyphqP"
      }
    },
    {
      "cell_type": "markdown",
      "source": [
        "This scatter plot is perfect for analyzing the relationship between registered users and transaction amount, helping to reveal user base value and transaction dynamics."
      ],
      "metadata": {
        "id": "TVxDimi2phqP"
      }
    },
    {
      "cell_type": "markdown",
      "source": [
        "##### 2. What is/are the insight(s) found from the chart?"
      ],
      "metadata": {
        "id": "OVtJsKN_phqQ"
      }
    },
    {
      "cell_type": "markdown",
      "source": [
        "There's a clear positive correlation: more registered users tend to result in higher transaction amounts.\n",
        "\n",
        "A few regions have high user counts but low transactions, indicating underutilization.\n",
        "\n",
        "Dense clustering near the origin suggests many small entities with limited activity."
      ],
      "metadata": {
        "id": "ngGi97qjphqQ"
      }
    },
    {
      "cell_type": "markdown",
      "source": [
        "##### 3. Will the gained insights help creating a positive business impact?\n",
        "Are there any insights that lead to negative growth? Justify with specific reason."
      ],
      "metadata": {
        "id": "lssrdh5qphqQ"
      }
    },
    {
      "cell_type": "markdown",
      "source": [
        "**Positive Impact:**\n",
        "\n",
        "High-value user clusters can be targeted for engagement, upselling, or retention efforts.\n",
        "\n",
        "Regions with high transaction amounts per user could be models for user experience best practices.\n",
        "\n",
        "**Negative Insight:**\n",
        "\n",
        "Areas with high registrations but low transactions indicate inactive users or poor conversion, signaling potential engagement gaps."
      ],
      "metadata": {
        "id": "tBpY5ekJphqQ"
      }
    },
    {
      "cell_type": "markdown",
      "source": [
        "#### Chart - 10"
      ],
      "metadata": {
        "id": "U2RJ9gkRphqQ"
      }
    },
    {
      "cell_type": "code",
      "source": [
        "# Chart - 10 visualization code\n",
        "\n",
        "# Plotting the distribution of app opens by level\n",
        "plt.figure(figsize=(10, 6))\n",
        "sns.boxplot(data=df, x='level', y='app_opens', palette='viridis')\n",
        "plt.title('Distribution of App Opens by Level')\n",
        "plt.xlabel('Level')\n",
        "plt.ylabel('App Opens')\n",
        "plt.tight_layout()\n",
        "plt.show()"
      ],
      "metadata": {
        "id": "GM7a4YP4phqQ"
      },
      "execution_count": null,
      "outputs": []
    },
    {
      "cell_type": "markdown",
      "source": [
        "##### 1. Why did you pick the specific chart?"
      ],
      "metadata": {
        "id": "1M8mcRywphqQ"
      }
    },
    {
      "cell_type": "markdown",
      "source": [
        "This box plot shows how app opens vary across different administrative levels (state, district, pincode)—helpful for identifying engagement concentration and outliers."
      ],
      "metadata": {
        "id": "8agQvks0phqQ"
      }
    },
    {
      "cell_type": "markdown",
      "source": [
        "##### 2. What is/are the insight(s) found from the chart?"
      ],
      "metadata": {
        "id": "tgIPom80phqQ"
      }
    },
    {
      "cell_type": "markdown",
      "source": [
        "This box plot shows how app opens vary across different administrative levels (state, district, pincode)—helpful for identifying engagement concentration and outliers."
      ],
      "metadata": {
        "id": "Qp13pnNzphqQ"
      }
    },
    {
      "cell_type": "markdown",
      "source": [
        "##### 3. Will the gained insights help creating a positive business impact?\n",
        "Are there any insights that lead to negative growth? Justify with specific reason."
      ],
      "metadata": {
        "id": "JMzcOPDDphqR"
      }
    },
    {
      "cell_type": "markdown",
      "source": [
        "**Positive Impact:**\n",
        "\n",
        "Helps identify high-engagement regions at granular levels (e.g., pincode) for targeted campaigns.\n",
        "\n",
        "State-level visibility allows for macro-level planning, while district/pincode insights support hyperlocal strategies.\n",
        "\n",
        "**Negative Insight:**\n",
        "\n",
        "Heavy outliers in lower levels may suggest data anomalies or non-uniform user engagement, requiring normalization or deeper analysis."
      ],
      "metadata": {
        "id": "R4Ka1PC2phqR"
      }
    },
    {
      "cell_type": "markdown",
      "source": [
        "#### Chart - 11"
      ],
      "metadata": {
        "id": "x-EpHcCOp1ci"
      }
    },
    {
      "cell_type": "code",
      "source": [
        "# Chart - 11 visualization code\n",
        "\n",
        "target_col = 'amount.1'  # Change to your column of interest\n",
        "correlations = df.corr(numeric_only=True)[target_col].drop(target_col)\n",
        "\n",
        "# Bar plot\n",
        "plt.figure(figsize=(10, 6))\n",
        "correlations.sort_values(ascending=False).plot(kind='bar', color='skyblue')\n",
        "plt.title(f'Correlation of Numerical Variables with {target_col}')\n",
        "plt.ylabel('Correlation Coefficient')\n",
        "plt.xticks(rotation=45)\n",
        "plt.tight_layout()\n",
        "plt.show()"
      ],
      "metadata": {
        "id": "mAQTIvtqp1cj"
      },
      "execution_count": null,
      "outputs": []
    },
    {
      "cell_type": "markdown",
      "source": [
        "##### 1. Why did you pick the specific chart?"
      ],
      "metadata": {
        "id": "X_VqEhTip1ck"
      }
    },
    {
      "cell_type": "markdown",
      "source": [
        "A bar chart is used because it clearly shows the strength of correlation between amount.1 and other numerical variables, making it easy to compare their influence."
      ],
      "metadata": {
        "id": "-vsMzt_np1ck"
      }
    },
    {
      "cell_type": "markdown",
      "source": [
        "##### 2. What is/are the insight(s) found from the chart?"
      ],
      "metadata": {
        "id": "8zGJKyg5p1ck"
      }
    },
    {
      "cell_type": "markdown",
      "source": [
        "count.1 has the strongest positive correlation with amount.1 (almost 1.0).\n",
        "\n",
        "registered_users.1 shows moderate correlation.\n",
        "\n",
        "Others (like app_opens, quarter.1) have weak or negligible correlation."
      ],
      "metadata": {
        "id": "ZYdMsrqVp1ck"
      }
    },
    {
      "cell_type": "markdown",
      "source": [
        "##### 3. Will the gained insights help creating a positive business impact?\n",
        "Are there any insights that lead to negative growth? Justify with specific reason."
      ],
      "metadata": {
        "id": "PVzmfK_Ep1ck"
      }
    },
    {
      "cell_type": "markdown",
      "source": [
        "**Positive:**\n",
        "\n",
        "Focus on increasing count.1 and registered_users.1 will likely boost transaction amount, helping revenue growth.\n",
        "\n",
        "**Negative:**\n",
        "\n",
        "Relying on weakly correlated factors (like app_opens or quarter) may waste resources with minimal impact on revenue."
      ],
      "metadata": {
        "id": "druuKYZpp1ck"
      }
    },
    {
      "cell_type": "markdown",
      "source": [
        "#### Chart - 12"
      ],
      "metadata": {
        "id": "n3dbpmDWp1ck"
      }
    },
    {
      "cell_type": "code",
      "source": [
        "# Chart - 12 visualization code\n",
        "\n",
        "# Create a 'date' column by combining year and quarter\n",
        "# We can represent this as Year-Quarter (e.g., 2020-Q1, 2021-Q2)\n",
        "# Ensure 'year.1' and 'quarter.1' are treated as appropriate types (e.g., integers)\n",
        "df['date'] = df['year.1'].astype(int).astype(str) + '-Q' + df['quarter.1'].astype(int).astype(str)\n",
        "\n",
        "# Group by the newly created 'date' column and sum both transaction amount and count\n",
        "transaction_trends_over_time = df.groupby('date').agg({'amount.1': 'sum', 'count.1': 'sum'}).reset_index()\n",
        "\n",
        "# Sort by date for correct time series plotting\n",
        "transaction_trends_over_time['date'] = pd.Categorical(transaction_trends_over_time['date'],\n",
        "                                                     categories=df['date'].unique(),\n",
        "                                                     ordered=True)\n",
        "transaction_trends_over_time = transaction_trends_over_time.sort_values('date')\n",
        "\n",
        "\n",
        "# Plotting transaction amount and count over time\n",
        "fig, ax1 = plt.subplots(figsize=(12, 6))\n",
        "\n",
        "sns.lineplot(data=transaction_trends_over_time, x='date', y='amount.1', ax=ax1, color='blue', marker='o')\n",
        "ax1.set_xlabel('Date (Year-Quarter)')\n",
        "ax1.set_ylabel('Total Transaction Amount', color='blue')\n",
        "ax1.tick_params(axis='y', labelcolor='blue')\n",
        "\n",
        "ax2 = ax1.twinx()\n",
        "sns.lineplot(data=transaction_trends_over_time, x='date', y='count.1', ax=ax2, color='red', marker='o')\n",
        "ax2.set_ylabel('Total Transaction Count', color='red')\n",
        "ax2.tick_params(axis='y', labelcolor='red')\n",
        "\n",
        "plt.title('Total Transaction Amount and Count Over Time')\n",
        "plt.xticks(rotation=45)\n",
        "plt.tight_layout()\n",
        "plt.show()"
      ],
      "metadata": {
        "id": "bwevp1tKp1ck"
      },
      "execution_count": null,
      "outputs": []
    },
    {
      "cell_type": "markdown",
      "source": [
        "##### 1. Why did you pick the specific chart?"
      ],
      "metadata": {
        "id": "ylSl6qgtp1ck"
      }
    },
    {
      "cell_type": "markdown",
      "source": [
        "A dual-axis line chart effectively shows trends over time for both Total Transaction Amount (blue) and Transaction Count (red), helping compare their behaviors simultaneously."
      ],
      "metadata": {
        "id": "m2xqNkiQp1ck"
      }
    },
    {
      "cell_type": "markdown",
      "source": [
        "##### 2. What is/are the insight(s) found from the chart?"
      ],
      "metadata": {
        "id": "ZWILFDl5p1ck"
      }
    },
    {
      "cell_type": "markdown",
      "source": [
        "Huge spike in both amount and count around early 2022, indicating an unusual event or campaign.\n",
        "\n",
        "Post-2022, steady growth trend in both metrics, suggesting recovery or consistent user engagement."
      ],
      "metadata": {
        "id": "x-lUsV2mp1ck"
      }
    },
    {
      "cell_type": "markdown",
      "source": [
        "##### 3. Will the gained insights help creating a positive business impact?\n",
        "Are there any insights that lead to negative growth? Justify with specific reason."
      ],
      "metadata": {
        "id": "M7G43BXep1ck"
      }
    },
    {
      "cell_type": "markdown",
      "source": [
        "**Positive:**\n",
        "\n",
        "Insights show consistent growth, which helps in forecasting and planning future investments.\n",
        "\n",
        "The spike can be analyzed for repeatable success factors (e.g., promotions, product launches).\n",
        "\n",
        "**Negative:**\n",
        "\n",
        "Overreliance on such one-time spikes can mislead future planning if not clearly understood or repeatable."
      ],
      "metadata": {
        "id": "5wwDJXsLp1cl"
      }
    },
    {
      "cell_type": "markdown",
      "source": [
        "#### Chart - 13"
      ],
      "metadata": {
        "id": "Ag9LCva-p1cl"
      }
    },
    {
      "cell_type": "code",
      "source": [
        "# Chart - 13 visualization code\n",
        "\n",
        "# Plotting the distribution of transaction amount by quarter\n",
        "plt.figure(figsize=(10, 6))\n",
        "sns.boxplot(data=df, x='quarter.1', y='amount.1', palette='viridis')\n",
        "plt.title('Distribution of Transaction Amount by Quarter')\n",
        "plt.xlabel('Quarter')\n",
        "plt.ylabel('Transaction Amount')\n",
        "plt.tight_layout()\n",
        "plt.show()"
      ],
      "metadata": {
        "id": "EUfxeq9-p1cl"
      },
      "execution_count": null,
      "outputs": []
    },
    {
      "cell_type": "markdown",
      "source": [
        "##### 1. Why did you pick the specific chart?"
      ],
      "metadata": {
        "id": "E6MkPsBcp1cl"
      }
    },
    {
      "cell_type": "markdown",
      "source": [
        "A box plot is ideal for visualizing the distribution and spread of Transaction Amount across quarters, highlighting outliers and data concentration."
      ],
      "metadata": {
        "id": "V22bRsFWp1cl"
      }
    },
    {
      "cell_type": "markdown",
      "source": [
        "##### 2. What is/are the insight(s) found from the chart?"
      ],
      "metadata": {
        "id": "2cELzS2fp1cl"
      }
    },
    {
      "cell_type": "markdown",
      "source": [
        "Each quarter has a large number of outliers, indicating occasional very high-value transactions.\n",
        "\n",
        "Distribution is fairly consistent across quarters, except for a possible anomaly in Q2 (mislabeling or missing data point like 2.580...)."
      ],
      "metadata": {
        "id": "ozQPc2_Ip1cl"
      }
    },
    {
      "cell_type": "markdown",
      "source": [
        "##### 3. Will the gained insights help creating a positive business impact?\n",
        "Are there any insights that lead to negative growth? Justify with specific reason."
      ],
      "metadata": {
        "id": "3MPXvC8up1cl"
      }
    },
    {
      "cell_type": "markdown",
      "source": [
        "**Positive:**\n",
        "\n",
        "Helps identify peak transaction patterns and target high-value periods (e.g., Q4 shows many large transactions).\n",
        "\n",
        "**Negative:**\n",
        "\n",
        "The data inconsistency (non-integer quarter value) can distort analysis and lead to misinformed decisions if not cleaned."
      ],
      "metadata": {
        "id": "GL8l1tdLp1cl"
      }
    },
    {
      "cell_type": "markdown",
      "source": [
        "#### Chart - 14 - Correlation Heatmap"
      ],
      "metadata": {
        "id": "NC_X3p0fY2L0"
      }
    },
    {
      "cell_type": "code",
      "source": [
        "# Correlation Heatmap visualization code\n",
        "\n",
        "# Calculate the correlation matrix for all numerical columns\n",
        "correlation_matrix = df.select_dtypes(include=np.number).corr()\n",
        "\n",
        "# Plot the heatmap\n",
        "plt.figure(figsize=(12, 8))\n",
        "sns.heatmap(correlation_matrix, annot=True, cmap='coolwarm', fmt=\".2f\")\n",
        "plt.title('Correlation Heatmap of Numerical Variables')\n",
        "plt.tight_layout()\n",
        "plt.show()"
      ],
      "metadata": {
        "id": "xyC9zolEZNRQ"
      },
      "execution_count": null,
      "outputs": []
    },
    {
      "cell_type": "markdown",
      "source": [
        "##### 1. Why did you pick the specific chart?"
      ],
      "metadata": {
        "id": "UV0SzAkaZNRQ"
      }
    },
    {
      "cell_type": "markdown",
      "source": [
        "A correlation heatmap is chosen to provide a comprehensive overview of how all numerical variables relate to each other, especially amount.1, using both colors and exact values."
      ],
      "metadata": {
        "id": "DVPuT8LYZNRQ"
      }
    },
    {
      "cell_type": "markdown",
      "source": [
        "##### 2. What is/are the insight(s) found from the chart?"
      ],
      "metadata": {
        "id": "YPEH6qLeZNRQ"
      }
    },
    {
      "cell_type": "markdown",
      "source": [
        "amount.1 is strongly correlated with count.1 (0.98) and registered_users.1 (0.49).\n",
        "\n",
        "registered_users and app_opens are highly correlated (0.85), indicating usage patterns.\n",
        "\n",
        "Variables like quarter.1 and year.1 have very low or negative correlation, contributing little to transaction prediction."
      ],
      "metadata": {
        "id": "bfSqtnDqZNRR"
      }
    },
    {
      "cell_type": "markdown",
      "source": [
        "#### Chart - 15 - Pair Plot"
      ],
      "metadata": {
        "id": "q29F0dvdveiT"
      }
    },
    {
      "cell_type": "code",
      "source": [
        "# Pair Plot visualization code\n",
        "\n",
        "# Create a pair plot of the numerical columns\n",
        "sns.pairplot(df.select_dtypes(include=np.number))\n",
        "plt.suptitle('Pair Plot of Numerical Variables', y=1.02)\n",
        "plt.tight_layout()\n",
        "plt.show()"
      ],
      "metadata": {
        "id": "o58-TEIhveiU"
      },
      "execution_count": null,
      "outputs": []
    },
    {
      "cell_type": "markdown",
      "source": [
        "##### 1. Why did you pick the specific chart?"
      ],
      "metadata": {
        "id": "EXh0U9oCveiU"
      }
    },
    {
      "cell_type": "markdown",
      "source": [
        "A pair plot is used to visually explore relationships between multiple numerical variables, helping detect linear/non-linear patterns, clusters, or anomalies."
      ],
      "metadata": {
        "id": "eMmPjTByveiU"
      }
    },
    {
      "cell_type": "markdown",
      "source": [
        "##### 2. What is/are the insight(s) found from the chart?"
      ],
      "metadata": {
        "id": "22aHeOlLveiV"
      }
    },
    {
      "cell_type": "markdown",
      "source": [
        "Strong positive linear trends between:\n",
        "\n",
        "count.1 and amount.1\n",
        "\n",
        "registered_users.1 and amount.1\n",
        "\n",
        "registered_users and app_opens show a strong joint trend, supporting previous correlation insights.\n",
        "\n",
        "Variables like year.1 and quarter.1 are categorical-like and show no visible linear relation with others."
      ],
      "metadata": {
        "id": "uPQ8RGwHveiV"
      }
    },
    {
      "cell_type": "markdown",
      "source": [
        "## ***5. Hypothesis Testing***"
      ],
      "metadata": {
        "id": "g-ATYxFrGrvw"
      }
    },
    {
      "cell_type": "markdown",
      "source": [
        "### Based on your chart experiments, define three hypothetical statements from the dataset. In the next three questions, perform hypothesis testing to obtain final conclusion about the statements through your code and statistical testing."
      ],
      "metadata": {
        "id": "Yfr_Vlr8HBkt"
      }
    },
    {
      "cell_type": "markdown",
      "source": [
        "**Hypothesis 1:**\n",
        "Statement: There is a significant correlation between count.1 and amount.1.\n",
        "\n",
        "**Hypothesis 2:**\n",
        "Statement: The average transaction amount (amount.1) in Q4 is higher than in Q1.\n",
        "\n",
        "**Hypothesis 3:**\n",
        "Statement: The number of registered_users.1 significantly affects the total transaction amount (amount.1)."
      ],
      "metadata": {
        "id": "-7MS06SUHkB-"
      }
    },
    {
      "cell_type": "markdown",
      "source": [
        "### Hypothetical Statement - 1"
      ],
      "metadata": {
        "id": "8yEUt7NnHlrM"
      }
    },
    {
      "cell_type": "markdown",
      "source": [
        "#### 1. State Your research hypothesis as a null hypothesis and alternate hypothesis."
      ],
      "metadata": {
        "id": "tEA2Xm5dHt1r"
      }
    },
    {
      "cell_type": "markdown",
      "source": [
        "H₀ (Null): There is no significant correlation between count.1 and amount.1.\n",
        "\n",
        "H₁ (Alternative): There is a significant correlation between count.1 and amount.1."
      ],
      "metadata": {
        "id": "HI9ZP0laH0D-"
      }
    },
    {
      "cell_type": "markdown",
      "source": [
        "#### 2. Perform an appropriate statistical test."
      ],
      "metadata": {
        "id": "I79__PHVH19G"
      }
    },
    {
      "cell_type": "code",
      "source": [
        "import pandas as pd\n",
        "from scipy import stats\n",
        "\n",
        "# Load your DataFrame (replace with your actual file or source)\n",
        "# df = pd.read_csv('your_file.csv')\n",
        "\n",
        "# Print columns to check availability\n",
        "print(\"Available columns:\", df.columns)\n",
        "\n",
        "# Make sure required columns exist\n",
        "required_columns = ['transaction_type', 'transaction_amount']\n",
        "missing_cols = [col for col in required_columns if col not in df.columns]\n",
        "\n",
        "if missing_cols:\n",
        "    print(f\"Error: Missing columns in DataFrame - {missing_cols}\")\n",
        "else:\n",
        "    # Drop rows with missing values in relevant columns\n",
        "    df_clean = df.dropna(subset=required_columns)\n",
        "\n",
        "    # Display unique transaction types\n",
        "    print(\"Available transaction types:\", df_clean['transaction_type'].unique())\n",
        "\n",
        "    # Auto-select first two categories\n",
        "    types = df_clean['transaction_type'].unique()\n",
        "    if len(types) < 2:\n",
        "        print(\"Not enough transaction types to compare.\")\n",
        "    else:\n",
        "        type1, type2 = types[0], types[1]\n",
        "\n",
        "        # Filter groups\n",
        "        group1 = df_clean[df_clean['transaction_type'] == type1]['transaction_amount']\n",
        "        group2 = df_clean[df_clean['transaction_type'] == type2]['transaction_amount']\n",
        "\n",
        "        # Perform t-test if data is available\n",
        "        if len(group1) > 0 and len(group2) > 0:\n",
        "            t_stat, p_value = stats.ttest_ind(group1, group2, nan_policy='omit')\n",
        "            print(f\"\\nComparing: '{type1}' vs '{type2}'\")\n",
        "            print(f\"T-statistic: {t_stat:.4f}\")\n",
        "            print(f\"P-value: {p_value:.4f}\")\n",
        "        else:\n",
        "            print(\"One or both groups are empty after filtering.\")\n"
      ],
      "metadata": {
        "id": "oZrfquKtyian"
      },
      "execution_count": null,
      "outputs": []
    },
    {
      "cell_type": "markdown",
      "source": [
        "##### Which statistical test have you done to obtain P-Value?"
      ],
      "metadata": {
        "id": "Ou-I18pAyIpj"
      }
    },
    {
      "cell_type": "markdown",
      "source": [
        "In the code cell for Hypothetical Statement - 1, I attempted to perform an independent samples t-test (stats.ttest_ind) to compare the transaction_amount between two different transaction_type categories."
      ],
      "metadata": {
        "id": "s2U0kk00ygSB"
      }
    },
    {
      "cell_type": "markdown",
      "source": [
        "##### Why did you choose the specific statistical test?"
      ],
      "metadata": {
        "id": "fF3858GYyt-u"
      }
    },
    {
      "cell_type": "markdown",
      "source": [
        "I chose the independent samples t-test because the hypothetical statement was about comparing the mean transaction amount between two different transaction types. The t-test is a suitable statistical test for comparing the means of two independent groups to determine if there is a statistically significant difference between them."
      ],
      "metadata": {
        "id": "HO4K0gP5y3B4"
      }
    },
    {
      "cell_type": "markdown",
      "source": [
        "### Hypothetical Statement - 2"
      ],
      "metadata": {
        "id": "4_0_7-oCpUZd"
      }
    },
    {
      "cell_type": "markdown",
      "source": [
        "#### 1. State Your research hypothesis as a null hypothesis and alternate hypothesis."
      ],
      "metadata": {
        "id": "hwyV_J3ipUZe"
      }
    },
    {
      "cell_type": "markdown",
      "source": [
        "H₀: The mean of amount.1 in Q4 is less than or equal to that in Q1.\n",
        "\n",
        "H₁: The mean of amount.1 in Q4 is greater than that in Q1."
      ],
      "metadata": {
        "id": "FnpLGJ-4pUZe"
      }
    },
    {
      "cell_type": "markdown",
      "source": [
        "#### 2. Perform an appropriate statistical test."
      ],
      "metadata": {
        "id": "3yB-zSqbpUZe"
      }
    },
    {
      "cell_type": "code",
      "source": [
        "# Perform Statistical Test to obtain P-Value\n",
        "\n",
        "# Filter data for Quarter 1 and Quarter 4\n",
        "q1_data = df[df['quarter.1'] == 1]['amount.1']\n",
        "q4_data = df[df['quarter.1'] == 4]['amount.1']\n",
        "\n",
        "# Perform independent samples t-test\n",
        "# We use nan_policy='omit' to handle any potential NaN values in the filtered data\n",
        "t_stat, p_value = stats.ttest_ind(q4_data, q1_data, nan_policy='omit')\n",
        "\n",
        "print(f\"T-statistic: {t_stat:.4f}\")\n",
        "print(f\"P-value: {p_value:.4f}\")\n",
        "\n",
        "# Interpret the results\n",
        "alpha = 0.05\n",
        "if p_value < alpha:\n",
        "    print(\"Conclusion: Reject the null hypothesis. The average transaction amount in Q4 is significantly different from Q1.\")\n",
        "else:\n",
        "    print(\"Conclusion: Fail to reject the null hypothesis. There is no significant difference in the average transaction amount between Q4 and Q1.\")"
      ],
      "metadata": {
        "id": "sWxdNTXNpUZe"
      },
      "execution_count": null,
      "outputs": []
    },
    {
      "cell_type": "markdown",
      "source": [
        "##### Which statistical test have you done to obtain P-Value?"
      ],
      "metadata": {
        "id": "dEUvejAfpUZe"
      }
    },
    {
      "cell_type": "markdown",
      "source": [
        "I used an independent samples t-test to obtain the P-value of 0.2354."
      ],
      "metadata": {
        "id": "oLDrPz7HpUZf"
      }
    },
    {
      "cell_type": "markdown",
      "source": [
        "##### Why did you choose the specific statistical test?"
      ],
      "metadata": {
        "id": "Fd15vwWVpUZf"
      }
    },
    {
      "cell_type": "markdown",
      "source": [
        "Based on the results (P-value = 0.2354), which is greater than the standard significance level of 0.05, we fail to reject the null hypothesis. This means there is no statistically significant difference in the average transaction amount between Q4 and Q1 based on this dataset."
      ],
      "metadata": {
        "id": "4xOGYyiBpUZf"
      }
    },
    {
      "cell_type": "markdown",
      "source": [
        "### Hypothetical Statement - 3"
      ],
      "metadata": {
        "id": "bn_IUdTipZyH"
      }
    },
    {
      "cell_type": "markdown",
      "source": [
        "#### 1. State Your research hypothesis as a null hypothesis and alternate hypothesis."
      ],
      "metadata": {
        "id": "49K5P_iCpZyH"
      }
    },
    {
      "cell_type": "markdown",
      "source": [
        "H₀: registered_users.1 has no significant effect on amount.1.\n",
        "\n",
        "H₁: registered_users.1 has a significant positive effect on amount.1."
      ],
      "metadata": {
        "id": "7gWI5rT9pZyH"
      }
    },
    {
      "cell_type": "markdown",
      "source": [
        "#### 2. Perform an appropriate statistical test."
      ],
      "metadata": {
        "id": "Nff-vKELpZyI"
      }
    },
    {
      "cell_type": "code",
      "source": [
        "import statsmodels.api as sm\n",
        "\n",
        "# Define the independent variable (registered_users.1) and the dependent variable (amount.1)\n",
        "X = df['registered_users.1']\n",
        "y = df['amount.1']\n",
        "\n",
        "# Add a constant to the independent variable for the regression analysis\n",
        "X = sm.add_constant(X)\n",
        "\n",
        "# Perform the regression analysis\n",
        "model = sm.OLS(y, X).fit()\n",
        "\n",
        "# Print the summary of the regression results\n",
        "print(model.summary())\n",
        "\n",
        "# Extract the p-value for the registered_users.1 coefficient\n",
        "p_value_registered_users = model.pvalues['registered_users.1']\n",
        "\n",
        "print(f\"\\nP-value for registered_users.1: {p_value_registered_users:.4f}\")\n",
        "\n",
        "# Interpret the results\n",
        "alpha = 0.05\n",
        "if p_value_registered_users < alpha:\n",
        "    print(\"Conclusion: Reject the null hypothesis. registered_users.1 has a significant positive effect on amount.1.\")\n",
        "else:\n",
        "    print(\"Conclusion: Fail to reject the null hypothesis. registered_users.1 does not have a significant positive effect on amount.1.\")"
      ],
      "metadata": {
        "id": "s6AnJQjtpZyI"
      },
      "execution_count": null,
      "outputs": []
    },
    {
      "cell_type": "markdown",
      "source": [
        "##### Which statistical test have you done to obtain P-Value?"
      ],
      "metadata": {
        "id": "kLW572S8pZyI"
      }
    },
    {
      "cell_type": "markdown",
      "source": [
        "The test used in the OLS (Ordinary Least Squares) regression output to obtain the p-value for the variable registered_users.1 is the t-test (also called the t-statistic test)."
      ],
      "metadata": {
        "id": "ytWJ8v15pZyI"
      }
    },
    {
      "cell_type": "markdown",
      "source": [
        "##### Why did you choose the specific statistical test?"
      ],
      "metadata": {
        "id": "dWbDXHzopZyI"
      }
    },
    {
      "cell_type": "markdown",
      "source": [
        "In OLS regression, the t-test is used to evaluate whether the coefficient of an independent variable is significantly different from zero, i.e., whether the variable has a statistically significant effect on the dependent variable."
      ],
      "metadata": {
        "id": "M99G98V6pZyI"
      }
    },
    {
      "cell_type": "markdown",
      "source": [
        "## ***6. Feature Engineering & Data Pre-processing***"
      ],
      "metadata": {
        "id": "yLjJCtPM0KBk"
      }
    },
    {
      "cell_type": "markdown",
      "source": [
        "### 1. Handling Missing Values"
      ],
      "metadata": {
        "id": "xiyOF9F70UgQ"
      }
    },
    {
      "cell_type": "code",
      "source": [
        "import pandas as pd\n",
        "import numpy as np\n",
        "from sklearn.impute import SimpleImputer\n",
        "from google.colab import drive\n",
        "import os\n",
        "\n",
        "# Step 1: Mount Google Drive\n",
        "drive.mount('/content/drive')\n",
        "\n",
        "# Step 2: Load dataset\n",
        "file_path = '/content/drive/MyDrive/aggregated.csv.xlsx'\n",
        "\n",
        "if not os.path.exists(file_path):\n",
        "    print(f\"❌ File not found: {file_path}\")\n",
        "else:\n",
        "    try:\n",
        "        df = pd.read_excel(file_path)\n",
        "        print(\"✅ Data loaded successfully!\")\n",
        "    except Exception as e:\n",
        "        print(\"❌ Error reading Excel file:\", e)\n",
        "        raise\n",
        "\n",
        "    # Step 3: Show missing values before imputation\n",
        "    print(\"\\n📋 Missing values before imputation:\\n\", df.isnull().sum())\n",
        "\n",
        "    # Step 4: Separate numeric and categorical columns\n",
        "    df = df.apply(pd.to_numeric, errors='ignore')  # Convert where possible\n",
        "    num_cols = df.select_dtypes(include=['int64', 'float64']).columns\n",
        "    cat_cols = df.select_dtypes(include='object').columns\n",
        "\n",
        "    # Step 5: Impute numeric columns\n",
        "    try:\n",
        "        num_imputed = SimpleImputer(strategy='mean').fit_transform(df[num_cols])\n",
        "        df[num_cols] = pd.DataFrame(num_imputed, columns=num_cols, index=df.index)\n",
        "    except Exception as e:\n",
        "        print(\"❌ Numeric imputation error:\", e)\n",
        "        raise\n",
        "\n",
        "    # Step 6: Impute categorical columns (safe handling)\n",
        "    try:\n",
        "        df[cat_cols] = df[cat_cols].astype(str)  # Ensure all are strings\n",
        "        cat_imputed = SimpleImputer(strategy='most_frequent').fit_transform(df[cat_cols])\n",
        "        df[cat_cols] = pd.DataFrame(cat_imputed, columns=cat_cols, index=df.index)\n",
        "    except Exception as e:\n",
        "        print(\"❌ Categorical imputation error:\", e)\n",
        "        raise\n",
        "\n",
        "    # Step 7: Show missing values after imputation\n",
        "    print(\"\\n✅ Missing values after imputation:\\n\", df.isnull().sum())\n",
        "\n",
        "    # Step 8: Handle outliers using IQR capping\n",
        "    print(\"\\n📦 Outlier Capping Summary:\")\n",
        "    for col in num_cols:\n",
        "        try:\n",
        "            col_data = df[col].astype(float)  # Ensure numeric type\n",
        "            Q1 = col_data.quantile(0.25)\n",
        "            Q3 = col_data.quantile(0.75)\n",
        "            IQR = Q3 - Q1\n",
        "            lower = Q1 - 1.5 * IQR\n",
        "            upper = Q3 + 1.5 * IQR\n",
        "\n",
        "            outlier_count = ((col_data < lower) | (col_data > upper)).sum()\n",
        "            print(f\"📊 {col}: {outlier_count} outliers capped.\")\n",
        "\n",
        "            df[col] = np.where(col_data < lower, lower,\n",
        "                        np.where(col_data > upper, upper, col_data))\n",
        "        except Exception as e:\n",
        "            print(f\"⚠️ Could not process column {col}: {e}\")\n",
        "\n",
        "    # Step 9: Summary statistics\n",
        "    print(\"\\n✅ Outlier treatment complete. Summary stats:\")\n",
        "    print(df.describe())\n"
      ],
      "metadata": {
        "id": "iRsAHk1K0fpS"
      },
      "execution_count": null,
      "outputs": []
    },
    {
      "cell_type": "markdown",
      "source": [
        "#### What all missing value imputation techniques have you used and why did you use those techniques?"
      ],
      "metadata": {
        "id": "7wuGOrhz0itI"
      }
    },
    {
      "cell_type": "markdown",
      "source": [
        "This was done to remove features that were largely incomplete and would likely not provide much useful information for analysis or modeling."
      ],
      "metadata": {
        "id": "1ixusLtI0pqI"
      }
    },
    {
      "cell_type": "markdown",
      "source": [
        "### 2. Handling Outliers"
      ],
      "metadata": {
        "id": "id1riN9m0vUs"
      }
    },
    {
      "cell_type": "code",
      "source": [
        "import pandas as pd\n",
        "import numpy as np\n",
        "from sklearn.impute import SimpleImputer\n",
        "from google.colab import drive\n",
        "import os\n",
        "\n",
        "# Step 1: Mount Google Drive\n",
        "drive.mount('/content/drive')\n",
        "\n",
        "# Step 2: Load dataset\n",
        "file_path = '/content/drive/MyDrive/aggregated.csv.xlsx'\n",
        "\n",
        "if not os.path.exists(file_path):\n",
        "    print(f\"❌ File not found: {file_path}\")\n",
        "else:\n",
        "    df = pd.read_excel(file_path)\n",
        "    print(\"✅ Data loaded successfully!\")\n",
        "\n",
        "    # Step 3: Show numerical columns only\n",
        "    num_cols = df.select_dtypes(include='number').columns\n",
        "\n",
        "    # Step 4: Detect & Treat Outliers using IQR method\n",
        "    for col in num_cols:\n",
        "        Q1 = df[col].quantile(0.25)\n",
        "        Q3 = df[col].quantile(0.75)\n",
        "        IQR = Q3 - Q1\n",
        "        lower = Q1 - 1.5 * IQR\n",
        "        upper = Q3 + 1.5 * IQR\n",
        "\n",
        "        # Optional: Count outliers\n",
        "        outlier_count = ((df[col] < lower) | (df[col] > upper)).sum()\n",
        "        print(f\"🔍 {col}: {outlier_count} outliers detected.\")\n",
        "\n",
        "        # Treatment Option 1: Capping\n",
        "        df[col] = np.where(df[col] < lower, lower,\n",
        "                  np.where(df[col] > upper, upper, df[col]))\n",
        "\n",
        "        # You can also remove outliers instead using:\n",
        "        # df = df[(df[col] >= lower) & (df[col] <= upper)]\n",
        "\n",
        "    # Step 5: Confirm outlier treatment\n",
        "    print(\"\\n✅ Outlier treatment complete. Summary statistics:\")\n",
        "    print(df[num_cols].describe())\n"
      ],
      "metadata": {
        "id": "M6w2CzZf04JK"
      },
      "execution_count": null,
      "outputs": []
    },
    {
      "cell_type": "markdown",
      "source": [
        "##### What all outlier treatment techniques have you used and why did you use those techniques?"
      ],
      "metadata": {
        "id": "578E2V7j08f6"
      }
    },
    {
      "cell_type": "markdown",
      "source": [
        "columns that remained but still had missing numerical data, the mean was used to fill the gaps. This is a common strategy when the data is roughly symmetrically distributed and you want to maintain the overall mean of the column."
      ],
      "metadata": {
        "id": "uGZz5OrT1HH-"
      }
    },
    {
      "cell_type": "markdown",
      "source": [
        "### 3. Categorical Encoding"
      ],
      "metadata": {
        "id": "89xtkJwZ18nB"
      }
    },
    {
      "cell_type": "code",
      "source": [
        "# Encode your categorical columns\n",
        "\n",
        "# Select categorical columns\n",
        "categorical_cols = df.select_dtypes(include='object').columns\n",
        "\n",
        "# Perform one-hot encoding\n",
        "df_encoded = pd.get_dummies(df, columns=categorical_cols, dummy_na=False)\n",
        "\n",
        "# Display the first few rows of the encoded DataFrame\n",
        "print(\"DataFrame after one-hot encoding:\")\n",
        "display(df_encoded.head())\n",
        "\n",
        "# Print the shape of the new DataFrame\n",
        "print(f\"\\nShape of DataFrame after encoding: {df_encoded.shape}\")"
      ],
      "metadata": {
        "id": "21JmIYMG2hEo"
      },
      "execution_count": null,
      "outputs": []
    },
    {
      "cell_type": "markdown",
      "source": [
        "#### What all categorical encoding techniques have you used & why did you use those techniques?"
      ],
      "metadata": {
        "id": "67NQN5KX2AMe"
      }
    },
    {
      "cell_type": "markdown",
      "source": [
        "ML Compatibility: Algorithms like Linear Regression, Ridge, Random Forest, etc., can’t handle string labels — they require numeric input.\n",
        "\n",
        "No Ordinal Relationship: One-hot encoding is ideal when categorical variables are nominal (no inherent order), which is the case for locations or brands.\n",
        "\n",
        "Preserves Information: Unlike Label Encoding, one-hot avoids implying any ranking or priority between categories."
      ],
      "metadata": {
        "id": "UDaue5h32n_G"
      }
    },
    {
      "cell_type": "markdown",
      "source": [
        "### 4. Textual Data Preprocessing\n",
        "(It's mandatory for textual dataset i.e., NLP, Sentiment Analysis, Text Clustering etc.)"
      ],
      "metadata": {
        "id": "Iwf50b-R2tYG"
      }
    },
    {
      "cell_type": "markdown",
      "source": [
        "#### 1. Expand Contraction"
      ],
      "metadata": {
        "id": "GMQiZwjn3iu7"
      }
    },
    {
      "cell_type": "code",
      "source": [
        "# Step 1: Install the contractions package (run this once)\n",
        "!pip install contractions\n",
        "\n",
        "# Step 2: Import and use it\n",
        "import pandas as pd\n",
        "import contractions\n",
        "\n",
        "# Sample DataFrame (replace this with your actual data)\n",
        "data = {'text': [\"I can't go there.\", \"He's not coming!\", \"Don't worry about it.\"]}\n",
        "df = pd.DataFrame(data)\n",
        "\n",
        "# Step 3: Expand contractions\n",
        "df['text_expanded'] = df['text'].apply(lambda x: contractions.fix(x))\n",
        "\n",
        "# Step 4: Display results\n",
        "print(df)\n"
      ],
      "metadata": {
        "id": "PTouz10C3oNN"
      },
      "execution_count": null,
      "outputs": []
    },
    {
      "cell_type": "markdown",
      "source": [
        "#### 2. Lower Casing"
      ],
      "metadata": {
        "id": "WVIkgGqN3qsr"
      }
    },
    {
      "cell_type": "code",
      "source": [
        "# Example text data\n",
        "text = \"Hello World\"\n",
        "\n",
        "# Convert to lowercase\n",
        "lower_text = text.lower()\n",
        "\n",
        "# Print result\n",
        "print(\"Original:\", text)\n",
        "print(\"Lowercased:\", lower_text)\n"
      ],
      "metadata": {
        "id": "88JnJ1jN3w7j"
      },
      "execution_count": null,
      "outputs": []
    },
    {
      "cell_type": "markdown",
      "source": [
        "#### 3. Removing Punctuations"
      ],
      "metadata": {
        "id": "XkPnILGE3zoT"
      }
    },
    {
      "cell_type": "code",
      "source": [
        "import pandas as pd\n",
        "import string\n",
        "\n",
        "# Sample DataFrame\n",
        "df = pd.DataFrame({'text': [\"Hello, World!\", \"It's a great day.\", \"Python is awesome!!!\"]})\n",
        "\n",
        "# Function to remove punctuation\n",
        "def remove_punct(text):\n",
        "    return text.translate(str.maketrans('', '', string.punctuation))\n",
        "\n",
        "# Apply the function to the column\n",
        "df['clean_text'] = df['text'].apply(remove_punct)\n",
        "\n",
        "print(df)\n"
      ],
      "metadata": {
        "id": "vqbBqNaA33c0"
      },
      "execution_count": null,
      "outputs": []
    },
    {
      "cell_type": "markdown",
      "source": [
        "#### 4. Removing URLs & Removing words and digits contain digits."
      ],
      "metadata": {
        "id": "Hlsf0x5436Go"
      }
    },
    {
      "cell_type": "code",
      "source": [
        "import re\n",
        "\n",
        "# Sample text\n",
        "text = \"Visit our website at https://example.com or http://test.org and check 123products or item12 now!\"\n",
        "\n",
        "# Step 1: Remove URLs\n",
        "text_no_urls = re.sub(r'http\\S+|www\\S+|https\\S+', '', text)\n",
        "\n",
        "# Step 2: Remove words containing digits\n",
        "cleaned_text = re.sub(r'\\w*\\d\\w*', '', text_no_urls).strip()\n",
        "\n",
        "# Output results\n",
        "print(\"Original text:\\n\", text)\n",
        "print(\"\\nAfter removing URLs and digit-words:\\n\", cleaned_text)\n"
      ],
      "metadata": {
        "id": "2sxKgKxu4Ip3"
      },
      "execution_count": null,
      "outputs": []
    },
    {
      "cell_type": "markdown",
      "source": [
        "#### 5. Removing Stopwords & Removing White spaces"
      ],
      "metadata": {
        "id": "mT9DMSJo4nBL"
      }
    },
    {
      "cell_type": "code",
      "source": [
        "import re\n",
        "from nltk.corpus import stopwords\n",
        "import nltk\n",
        "\n",
        "# Download stopwords only (no need for punkt)\n",
        "nltk.download('stopwords')\n",
        "\n",
        "# Sample text\n",
        "text = \"  This is   an example sentence, showing off   stop word removal.  \\n\"\n",
        "\n",
        "# Step 1: Remove extra whitespace (spaces, tabs, newlines)\n",
        "text_cleaned = re.sub(r'\\s+', ' ', text).strip()\n",
        "\n",
        "# Step 2: Split text into words (basic tokenization without word_tokenize)\n",
        "word_tokens = text_cleaned.split()\n",
        "\n",
        "# Step 3: Remove stopwords\n",
        "stop_words = set(stopwords.words('english'))\n",
        "filtered_words = [word for word in word_tokens if word.lower() not in stop_words]\n",
        "\n",
        "# Step 4: Join tokens back to text\n",
        "final_text = ' '.join(filtered_words)\n",
        "\n",
        "# Output\n",
        "print(\"Original:\", repr(text))\n",
        "print(\"Cleaned:\", final_text)\n"
      ],
      "metadata": {
        "id": "T2LSJh154s8W"
      },
      "execution_count": null,
      "outputs": []
    },
    {
      "cell_type": "code",
      "source": [
        "# Sample text with irregular spacing\n",
        "text = \"This   string   has    extra   spaces.\"\n",
        "\n",
        "# Remove extra spaces\n",
        "text_no_extra_spaces = \" \".join(text.split())\n",
        "\n",
        "# Output\n",
        "print(\"Original:\", repr(text))\n",
        "print(\"Cleaned:\", text_no_extra_spaces)\n"
      ],
      "metadata": {
        "id": "EgLJGffy4vm0"
      },
      "execution_count": null,
      "outputs": []
    },
    {
      "cell_type": "markdown",
      "source": [
        "#### 6. Rephrase Text"
      ],
      "metadata": {
        "id": "c49ITxTc407N"
      }
    },
    {
      "cell_type": "code",
      "source": [
        "# Rephrase Text - This step is for text data preprocessing and is not applicable to this project.\n",
        "\n",
        "print(\"Rephrase Text step is for text data and not applicable to this project.\")"
      ],
      "metadata": {
        "id": "foqY80Qu48N2"
      },
      "execution_count": null,
      "outputs": []
    },
    {
      "cell_type": "markdown",
      "source": [
        "#### 7. Tokenization"
      ],
      "metadata": {
        "id": "OeJFEK0N496M"
      }
    },
    {
      "cell_type": "code",
      "source": [
        "# Feature Manipulation Code\n",
        "\n",
        "# Example: Create new features\n",
        "# You can create new features based on domain knowledge or insights from EDA.\n",
        "\n",
        "# Example 1: Ratio of transaction amount to count (Average Transaction Value)\n",
        "# Ensure 'amount.1' and 'count.1' are available and handle potential division by zero\n",
        "if 'amount.1' in df.columns and 'count.1' in df.columns:\n",
        "    # Add a small constant to avoid division by zero if count.1 can be zero\n",
        "    df['avg_transaction_value'] = df['amount.1'] / (df['count.1'] + 1)\n",
        "    print(\"✅ Created 'avg_transaction_value' feature.\")\n",
        "else:\n",
        "    print(\"Skipping 'avg_transaction_value' creation: 'amount.1' or 'count.1' not found.\")\n",
        "\n",
        "\n",
        "# Example 2: Interaction term between registered users and transaction count\n",
        "# Ensure 'registered_users.1' and 'count.1' are available\n",
        "if 'registered_users.1' in df.columns and 'count.1' in df.columns:\n",
        "    df['user_transaction_interaction'] = df['registered_users.1'] * df['count.1']\n",
        "    print(\"✅ Created 'user_transaction_interaction' feature.\")\n",
        "else:\n",
        "     print(\"Skipping 'user_transaction_interaction' creation: 'registered_users.1' or 'count.1' not found.\")\n",
        "\n",
        "# Example 3: Log transformation for skewed numerical features (if needed)\n",
        "# Check distribution of numerical features from EDA to identify skewed ones.\n",
        "# For example, if 'registered_users.1' is skewed:\n",
        "# if 'registered_users.1' in df.columns:\n",
        "#     df['registered_users.1_log'] = np.log1p(df['registered_users.1']) # log1p handles zero values\n",
        "#     print(\"✅ Created 'registered_users.1_log' feature.\")\n",
        "\n",
        "\n",
        "# Display the first few rows with new features\n",
        "print(\"\\nDataFrame with new features:\")\n",
        "display(df.head())"
      ],
      "metadata": {
        "id": "ijx1rUOS5CUU"
      },
      "execution_count": null,
      "outputs": []
    },
    {
      "cell_type": "markdown",
      "source": [
        "#### 8. Text Normalization"
      ],
      "metadata": {
        "id": "9ExmJH0g5HBk"
      }
    },
    {
      "cell_type": "code",
      "source": [
        "# Save the best performing ML model\n",
        "\n",
        "import joblib\n",
        "import os\n",
        "\n",
        "# Assuming 'random_search' holds the best trained Random Forest model\n",
        "# from the RandomizedSearchCV in cell eSVXuaSKpx6M.\n",
        "# If you used GridSearchCV or a different tuning method,\n",
        "# replace 'random_search.best_estimator_' with the appropriate best model object.\n",
        "\n",
        "# Define the filename for the saved model\n",
        "model_filename = 'best_random_forest_model.joblib'\n",
        "\n",
        "# Save the model to the specified filename\n",
        "try:\n",
        "    joblib.dump(random_search.best_estimator_, model_filename)\n",
        "    print(f\"✅ Best model saved successfully as '{model_filename}'\")\n",
        "except NameError:\n",
        "    print(\"❌ Error: The best model object (e.g., 'random_search') is not defined.\")\n",
        "    print(\"Please ensure the hyperparameter tuning cell (eSVXuaSKpx6M) was run successfully.\")\n",
        "except Exception as e:\n",
        "    print(f\"❌ An error occurred while saving the model: {e}\")"
      ],
      "metadata": {
        "id": "AIJ1a-Zc5PY8"
      },
      "execution_count": null,
      "outputs": []
    },
    {
      "cell_type": "markdown",
      "source": [
        "##### Which text normalization technique have you used and why?"
      ],
      "metadata": {
        "id": "cJNqERVU536h"
      }
    },
    {
      "cell_type": "markdown",
      "source": [
        "It's fast and useful when you don’t need grammatical accuracy.\n",
        "\n",
        "Helpful in keyword or frequency-based tasks (e.g., search engines, topic modeling)."
      ],
      "metadata": {
        "id": "Z9jKVxE06BC1"
      }
    },
    {
      "cell_type": "markdown",
      "source": [
        "#### 9. Part of speech tagging"
      ],
      "metadata": {
        "id": "k5UmGsbsOxih"
      }
    },
    {
      "cell_type": "code",
      "source": [
        "# Load the saved model file and try to predict unseen data for a sanity check.\n",
        "\n",
        "import joblib\n",
        "import pandas as pd\n",
        "import numpy as np\n",
        "\n",
        "# Define the filename where the model was saved\n",
        "model_filename = 'best_random_forest_model.joblib'\n",
        "\n",
        "# Load the model from the file\n",
        "try:\n",
        "    loaded_model = joblib.load(model_filename)\n",
        "    print(f\"✅ Model loaded successfully from '{model_filename}'\")\n",
        "\n",
        "    # Prepare some unseen data for prediction\n",
        "    # This should be in the same format (features and scaling) as the data the model was trained on.\n",
        "    # Using the features identified as important: 'count.1' and 'registered_users.1'\n",
        "    # Create a small DataFrame with hypothetical unseen data\n",
        "    unseen_data = pd.DataFrame({\n",
        "        'count.1': [1000, 5000, 200],\n",
        "        'registered_users.1': [10000, 50000, 2000]\n",
        "    })\n",
        "    predictions = loaded_model.predict(unseen_data)\n",
        "\n",
        "    print(\"\\nPredictions on unseen data:\")\n",
        "    print(unseen_data)\n",
        "    print(\"\\nPredicted Transaction Amounts:\")\n",
        "    print(predictions)\n",
        "\n",
        "\n",
        "except FileNotFoundError:\n",
        "    print(f\"❌ Error: The model file '{model_filename}' was not found.\")\n",
        "    print(\"Please ensure the model was saved correctly in the previous step.\")\n",
        "except NameError:\n",
        "     print(\"❌ Error: 'loaded_model' could not be defined. Check the loading process.\")\n",
        "except Exception as e:\n",
        "    print(f\"❌ An error occurred while loading or predicting: {e}\")"
      ],
      "metadata": {
        "id": "btT3ZJBAO6Ik"
      },
      "execution_count": null,
      "outputs": []
    },
    {
      "cell_type": "markdown",
      "source": [
        "#### 10. Text Vectorization"
      ],
      "metadata": {
        "id": "T0VqWOYE6DLQ"
      }
    },
    {
      "cell_type": "code",
      "source": [
        "from sklearn.feature_extraction.text import CountVectorizer, TfidfVectorizer\n",
        "\n",
        "# Sample corpus\n",
        "corpus = [\n",
        "    \"This is the first document.\",\n",
        "    \"This document is the second document.\",\n",
        "    \"And this is the third one.\"\n",
        "]\n",
        "\n",
        "# 🔹 Count Vectorizer (Bag-of-Words)\n",
        "count_vectorizer = CountVectorizer()\n",
        "X_count = count_vectorizer.fit_transform(corpus)\n",
        "print(\"Count Vectorizer Output:\")\n",
        "print(X_count.toarray())\n",
        "print(count_vectorizer.get_feature_names_out())\n",
        "\n",
        "# 🔹 TF-IDF Vectorizer\n",
        "tfidf_vectorizer = TfidfVectorizer()\n",
        "X_tfidf = tfidf_vectorizer.fit_transform(corpus)\n",
        "print(\"\\nTF-IDF Vectorizer Output:\")\n",
        "print(X_tfidf.toarray())\n",
        "print(tfidf_vectorizer.get_feature_names_out())\n"
      ],
      "metadata": {
        "id": "yBRtdhth6JDE"
      },
      "execution_count": null,
      "outputs": []
    },
    {
      "cell_type": "markdown",
      "source": [
        "##### Which text vectorization technique have you used and why?"
      ],
      "metadata": {
        "id": "qBMux9mC6MCf"
      }
    },
    {
      "cell_type": "markdown",
      "source": [
        "Simple and interpretable.\n",
        "\n",
        "Useful when word frequency matters.\n",
        "\n",
        "Ideal for basic models and feature importance analysis."
      ],
      "metadata": {
        "id": "su2EnbCh6UKQ"
      }
    },
    {
      "cell_type": "markdown",
      "source": [
        "### 4. Feature Manipulation & Selection"
      ],
      "metadata": {
        "id": "-oLEiFgy-5Pf"
      }
    },
    {
      "cell_type": "markdown",
      "source": [
        "#### 1. Feature Manipulation"
      ],
      "metadata": {
        "id": "C74aWNz2AliB"
      }
    },
    {
      "cell_type": "code",
      "source": [
        "import pandas as pd\n",
        "import numpy as np\n",
        "import seaborn as sns\n",
        "import matplotlib.pyplot as plt\n",
        "\n",
        "# Step 1: Check correlation between features\n",
        "corr_matrix = df.corr(numeric_only=True)\n",
        "plt.figure(figsize=(12, 8))\n",
        "sns.heatmap(corr_matrix, cmap='coolwarm', annot=False)\n",
        "plt.title(\"Correlation Matrix\")\n",
        "plt.show()\n",
        "\n",
        "# Step 2: Drop highly correlated features (correlation > 0.9)\n",
        "upper_tri = corr_matrix.where(np.triu(np.ones(corr_matrix.shape), k=1).astype(bool))\n",
        "to_drop = [column for column in upper_tri.columns if any(upper_tri[column] > 0.9)]\n",
        "df = df.drop(columns=to_drop)\n",
        "print(f\"✅ Dropped highly correlated features: {to_drop}\")\n",
        "\n",
        "# Step 3: Create new meaningful features (example logic)\n",
        "# Feel free to adjust based on domain knowledge\n",
        "if 'registered_users' in df.columns and 'app_opens' in df.columns:\n",
        "    df['user_activity_ratio'] = df['app_opens'] / (df['registered_users'] + 1)\n",
        "\n",
        "if 'amount' in df.columns and 'transaction_count' in df.columns:\n",
        "    df['avg_transaction_value'] = df['amount'] / (df['transaction_count'] + 1)\n",
        "\n",
        "print(\"✅ Created new features: 'user_activity_ratio', 'avg_transaction_value'\")\n",
        "\n",
        "# Step 4: Optional — Recheck correlation after feature engineering\n",
        "corr_after = df.corr(numeric_only=True)\n",
        "plt.figure(figsize=(12, 8))\n",
        "sns.heatmap(corr_after, cmap='coolwarm', annot=False)\n",
        "plt.title(\"Correlation After Feature Engineering\")\n",
        "plt.show()\n"
      ],
      "metadata": {
        "id": "h1qC4yhBApWC"
      },
      "execution_count": null,
      "outputs": []
    },
    {
      "cell_type": "markdown",
      "source": [
        "#### 2. Feature Selection"
      ],
      "metadata": {
        "id": "2DejudWSA-a0"
      }
    },
    {
      "cell_type": "code",
      "source": [
        "import pandas as pd\n",
        "import numpy as np\n",
        "from sklearn.ensemble import RandomForestRegressor\n",
        "from sklearn.feature_selection import SelectFromModel\n",
        "from sklearn.model_selection import train_test_split\n",
        "from sklearn.preprocessing import StandardScaler\n",
        "\n",
        "# Assuming X and y are already defined from the data splitting step (e.g., cell 0CTyd2UwEyNM)\n",
        "# X = df[['count.1', 'registered_users.1']] # Example features\n",
        "# y = df['amount.1'] # Target variable\n",
        "\n",
        "# Using the X and y defined in the data splitting cell 0CTyd2UwEyNM\n",
        "# Ensure you run cell 0CTyd2UwEyNM before this cell\n",
        "\n",
        "# Step 1: Split data for training the feature selection model\n",
        "# Although feature selection is typically done before the final train-test split,\n",
        "# we can train the selection model on the already defined X_train, y_train for demonstration\n",
        "# based on the notebook's flow.\n",
        "# Alternatively, we could use the full X and y and then split afterwards.\n",
        "# Let's use the X and y defined in cell 0CTyd2UwEyNM which represent the full dataset.\n",
        "\n",
        "# Step 2: Scale the features (necessary for some models used in feature selection, like linear models, but good practice)\n",
        "# Since RandomForestRegressor is tree-based, scaling is not strictly necessary for the model itself,\n",
        "# but if other selection methods were used, it would be.\n",
        "scaler = StandardScaler()\n",
        "X_scaled = scaler.fit_transform(X) # Scale the full feature set X\n",
        "\n",
        "# Step 3: Use a model to select important features - Train on the scaled training data\n",
        "# Use X_train and y_train from the split in cell 0CTyd2UwEyNM\n",
        "rf = RandomForestRegressor(random_state=42)\n",
        "# We fit on the training data to learn feature importances\n",
        "rf.fit(X_train, y_train)\n",
        "\n",
        "# Step 4: Feature importance filtering\n",
        "# Apply SelectFromModel to the scaled full feature set X_scaled\n",
        "selector = SelectFromModel(rf, threshold='median', prefit=True)\n",
        "# Transform the scaled full feature set X_scaled to select features\n",
        "X_selected_scaled = selector.transform(X_scaled)\n",
        "\n",
        "# Step 5: Get the names of the selected features from the original feature names\n",
        "# selector.get_support() returns a boolean mask of the selected features\n",
        "selected_features = X.columns[selector.get_support()]\n",
        "print(f\"✅ Selected {len(selected_features)} features:\")\n",
        "print(selected_features)\n",
        "\n",
        "# Optional: Create a new DataFrame with selected features\n",
        "# X_selected_df = pd.DataFrame(X_selected_scaled, columns=selected_features, index=X.index)\n",
        "# display(X_selected_df.head())"
      ],
      "metadata": {
        "id": "YLhe8UmaBCEE"
      },
      "execution_count": null,
      "outputs": []
    },
    {
      "cell_type": "markdown",
      "source": [
        "##### What all feature selection methods have you used  and why?"
      ],
      "metadata": {
        "id": "pEMng2IbBLp7"
      }
    },
    {
      "cell_type": "markdown",
      "source": [
        "We used RandomForestRegressor with SelectFromModel to select important features based on feature importance scores."
      ],
      "metadata": {
        "id": "rb2Lh6Z8BgGs"
      }
    },
    {
      "cell_type": "markdown",
      "source": [
        "##### Which all features you found important and why?"
      ],
      "metadata": {
        "id": "rAdphbQ9Bhjc"
      }
    },
    {
      "cell_type": "markdown",
      "source": [
        "The most important feature selected was: count.1\n",
        "\n",
        "It had the highest predictive power for amount.1 based on the Random Forest model’s learned importance scores."
      ],
      "metadata": {
        "id": "fGgaEstsBnaf"
      }
    },
    {
      "cell_type": "markdown",
      "source": [
        "### 5. Data Transformation"
      ],
      "metadata": {
        "id": "TNVZ9zx19K6k"
      }
    },
    {
      "cell_type": "markdown",
      "source": [
        "#### Do you think that your data needs to be transformed? If yes, which transformation have you used. Explain Why?"
      ],
      "metadata": {
        "id": "nqoHp30x9hH9"
      }
    },
    {
      "cell_type": "code",
      "source": [
        "import pandas as pd\n",
        "import numpy as np\n",
        "from sklearn.impute import SimpleImputer\n",
        "from sklearn.preprocessing import StandardScaler\n",
        "from sklearn.decomposition import PCA\n",
        "from sklearn.model_selection import train_test_split\n",
        "from google.colab import drive\n",
        "import os\n",
        "\n",
        "# Step 1: Mount Drive and Load Data\n",
        "drive.mount('/content/drive')\n",
        "file_path = '/content/drive/MyDrive/aggregated.csv.xlsx'\n",
        "\n",
        "if not os.path.exists(file_path):\n",
        "    raise FileNotFoundError(f\"❌ File not found: {file_path}\")\n",
        "df = pd.read_excel(file_path)\n",
        "print(\"✅ Data loaded!\")\n",
        "\n",
        "# Step 2: Handle Missing Values\n",
        "num_cols = df.select_dtypes(include=np.number).columns\n",
        "cat_cols = df.select_dtypes(include='object').columns\n",
        "\n",
        "# Convert potential mixed-type object columns to string before imputation\n",
        "for col in cat_cols:\n",
        "    df[col] = df[col].astype(str)\n",
        "\n",
        "\n",
        "# Impute numerical columns\n",
        "try:\n",
        "    df[num_cols] = SimpleImputer(strategy='mean').fit_transform(df[num_cols])\n",
        "    print(\"✅ Numerical missing values imputed.\")\n",
        "except Exception as e:\n",
        "    print(\"❌ Error during numerical imputation:\", e)\n",
        "    # Depending on severity, you might want to raise the exception or handle it differently\n",
        "    raise\n",
        "\n",
        "# Impute categorical columns\n",
        "try:\n",
        "    df[cat_cols] = SimpleImputer(strategy='most_frequent').fit_transform(df[cat_cols])\n",
        "    print(\"✅ Categorical missing values imputed.\")\n",
        "except Exception as e:\n",
        "    print(\"❌ Error during categorical imputation:\", e)\n",
        "    # Depending on severity, you might want to raise the exception or handle it differently\n",
        "    raise\n",
        "\n",
        "\n",
        "print(\"\\n📋 Missing values after imputation:\\n\", df.isnull().sum())\n",
        "\n",
        "\n",
        "# Step 3: Encode Categorical Variables (One-Hot)\n",
        "# Re-select categorical columns after imputation and potential type changes\n",
        "cat_cols_after_imputation = df.select_dtypes(include='object').columns\n",
        "df = pd.get_dummies(df, columns=cat_cols_after_imputation, drop_first=True)\n",
        "print(\"✅ Categorical columns encoded.\")\n",
        "\n",
        "# Step 4: Split features and target\n",
        "# Ensure 'amount.1' is in the DataFrame after imputation and encoding\n",
        "if 'amount.1' not in df.columns:\n",
        "    raise ValueError(\"Target column 'amount.1' not found after preprocessing.\")\n",
        "\n",
        "X = df.drop('amount.1', axis=1)  # Replace 'amount.1' with your actual target if different\n",
        "y = df['amount.1']\n",
        "\n",
        "# Step 5: Scale features\n",
        "scaler = StandardScaler()\n",
        "X_scaled = scaler.fit_transform(X)\n",
        "print(\"✅ Features scaled.\")\n",
        "\n",
        "# Step 6: Dimensionality Reduction with PCA (retain 95% variance)\n",
        "# PCA should be applied after scaling\n",
        "pca = PCA(n_components=0.95)\n",
        "X_pca = pca.fit_transform(X_scaled)\n",
        "print(f\"✅ PCA applied. Reduced from {X.shape[1]} to {X_pca.shape[1]} components.\")\n",
        "\n",
        "# Step 7: Train-Test Split\n",
        "X_train, X_test, y_train, y_test = train_test_split(X_pca, y, test_size=0.3, random_state=42)\n",
        "print(\"✅ Data ready for modeling.\")"
      ],
      "metadata": {
        "id": "I6quWQ1T9rtH"
      },
      "execution_count": null,
      "outputs": []
    },
    {
      "cell_type": "markdown",
      "source": [
        "### 6. Data Scaling"
      ],
      "metadata": {
        "id": "rMDnDkt2B6du"
      }
    },
    {
      "cell_type": "code",
      "source": [
        "from sklearn.preprocessing import StandardScaler\n",
        "\n",
        "# Assuming X is your feature matrix (without target)\n",
        "scaler = StandardScaler()\n",
        "X_scaled = scaler.fit_transform(X)\n"
      ],
      "metadata": {
        "id": "dL9LWpySC6x_"
      },
      "execution_count": null,
      "outputs": []
    },
    {
      "cell_type": "markdown",
      "source": [
        "##### Which method have you used to scale you data and why?"
      ],
      "metadata": {
        "id": "yiiVWRdJDDil"
      }
    },
    {
      "cell_type": "markdown",
      "source": [
        "It standardizes features to have mean = 0 and standard deviation = 1\n",
        "\n",
        "Ideal for algorithms like Linear Regression, Ridge, PCA, which are sensitive to feature scale\n",
        "\n",
        "Ensures all features contribute equally to the model without dominance due to magnitude"
      ],
      "metadata": {
        "id": "FIzUl8NPFXz1"
      }
    },
    {
      "cell_type": "markdown",
      "source": [
        "### 7. Dimesionality Reduction"
      ],
      "metadata": {
        "id": "1UUpS68QDMuG"
      }
    },
    {
      "cell_type": "markdown",
      "source": [
        "##### Do you think that dimensionality reduction is needed? Explain Why?"
      ],
      "metadata": {
        "id": "kexQrXU-DjzY"
      }
    },
    {
      "cell_type": "markdown",
      "source": [
        "High dimensionality: When dealing with a large number of features (variables) relative to the number of data points, dimensionality reduction can help simplify the data, reduce computational cost, and avoid the curse of dimensionality (where model performance degrades with too many features)."
      ],
      "metadata": {
        "id": "GGRlBsSGDtTQ"
      }
    },
    {
      "cell_type": "code",
      "source": [
        "from sklearn.decomposition import PCA\n",
        "from sklearn.preprocessing import StandardScaler\n",
        "\n",
        "# 1. Scale the data\n",
        "scaler = StandardScaler()\n",
        "X_scaled = scaler.fit_transform(X)  # X is your feature set\n",
        "\n",
        "# 2. Apply PCA\n",
        "pca = PCA(n_components=0.95)  # Retain 95% variance\n",
        "X_pca = pca.fit_transform(X_scaled)\n",
        "\n",
        "# 3. Check reduced dimensions\n",
        "print(f\"Reduced from {X.shape[1]} to {X_pca.shape[1]} components\")\n"
      ],
      "metadata": {
        "id": "kQfvxBBHDvCa"
      },
      "execution_count": null,
      "outputs": []
    },
    {
      "cell_type": "markdown",
      "source": [
        "##### Which dimensionality reduction technique have you used and why? (If dimensionality reduction done on dataset.)"
      ],
      "metadata": {
        "id": "T5CmagL3EC8N"
      }
    },
    {
      "cell_type": "markdown",
      "source": [
        "As an AI, I haven't used any dimensionality reduction techniques on a dataset because I don't interact with datasets directly. I am a language model that processes and generates text."
      ],
      "metadata": {
        "id": "ZKr75IDuEM7t"
      }
    },
    {
      "cell_type": "markdown",
      "source": [
        "### 8. Data Splitting"
      ],
      "metadata": {
        "id": "BhH2vgX9EjGr"
      }
    },
    {
      "cell_type": "code",
      "source": [
        "# Split your data to train and test. Choose Splitting ratio wisely.\n",
        "\n",
        "from sklearn.model_selection import train_test_split\n",
        "\n",
        "# Define features (X) and target (y)\n",
        "# Assuming you want to use all numerical features after preprocessing as X,\n",
        "# and 'amount.1' as the target variable y, as used in previous models.\n",
        "# If you have a specific set of features you want to use, please adjust the 'features' list.\n",
        "\n",
        "# Let's use the features that were effective in the previous models\n",
        "features = ['count.1', 'registered_users.1']\n",
        "target = 'amount.1'\n",
        "\n",
        "X = df[features]\n",
        "y = df[target]\n",
        "\n",
        "\n",
        "# Split the data into training and testing sets\n",
        "# Common practice is 80% for training and 20% for testing\n",
        "X_train, X_test, y_train, y_test = train_test_split(X, y, test_size=0.2, random_state=42) # Using a random_state for reproducibility\n",
        "\n",
        "print(\"Data splitting complete.\")\n",
        "print(f\"X_train shape: {X_train.shape}\")\n",
        "print(f\"X_test shape: {X_test.shape}\")\n",
        "print(f\"y_train shape: {y_train.shape}\")\n",
        "print(f\"y_test shape: {y_test.shape}\")"
      ],
      "metadata": {
        "id": "0CTyd2UwEyNM"
      },
      "execution_count": null,
      "outputs": []
    },
    {
      "cell_type": "markdown",
      "source": [
        "##### What data splitting ratio have you used and why?"
      ],
      "metadata": {
        "id": "qjKvONjwE8ra"
      }
    },
    {
      "cell_type": "markdown",
      "source": [
        "70% for training ensures the model learns patterns well\n",
        "\n",
        "30% for testing provides a reliable evaluation\n",
        "\n",
        "It's a common, balanced choice for medium to large datasets."
      ],
      "metadata": {
        "id": "Y2lJ8cobFDb_"
      }
    },
    {
      "cell_type": "markdown",
      "source": [
        "### 9. Handling Imbalanced Dataset"
      ],
      "metadata": {
        "id": "P1XJ9OREExlT"
      }
    },
    {
      "cell_type": "markdown",
      "source": [
        "##### Do you think the dataset is imbalanced? Explain Why."
      ],
      "metadata": {
        "id": "VFOzZv6IFROw"
      }
    },
    {
      "cell_type": "markdown",
      "source": [
        "The query asks whether a dataset is imbalanced and requests an explanation. Since I lack access to the dataset, I cannot determine if it's imbalanced or provide a reason. To address this, I need to suggest the use of a search tool to gather information about identifying imbalanced datasets and common reasons for imbalance."
      ],
      "metadata": {
        "id": "GeKDIv7pFgcC"
      }
    },
    {
      "cell_type": "code",
      "source": [
        "# Example: for a target column named 'target'\n",
        "# print(df['target'].value_counts(normalize=True))\n",
        "\n",
        "# Check the distribution of a categorical column for potential imbalance\n",
        "# Using 'level' as an example categorical column\n",
        "\n",
        "print(\"Distribution of 'level' column:\")\n",
        "display(df['level'].value_counts(normalize=True)) # Use normalize=True to show percentages\n",
        "\n",
        "# You can also visualize the distribution (requires matplotlib and seaborn)\n",
        "# import matplotlib.pyplot as plt\n",
        "# import seaborn as sns\n",
        "\n",
        "# plt.figure(figsize=(8, 6))\n",
        "# sns.countplot(data=df, x='level', palette='viridis')\n",
        "# plt.title('Distribution of Level')\n",
        "# plt.xlabel('Level')\n",
        "# plt.ylabel('Count')\n",
        "# plt.show()"
      ],
      "metadata": {
        "id": "nQsRhhZLFiDs"
      },
      "execution_count": null,
      "outputs": []
    },
    {
      "cell_type": "markdown",
      "source": [
        "##### What technique did you use to handle the imbalance dataset and why? (If needed to be balanced)"
      ],
      "metadata": {
        "id": "TIqpNgepFxVj"
      }
    },
    {
      "cell_type": "markdown",
      "source": [
        "No imbalance handling was needed because the target variable (amount.1) is continuous (regression task), not categorical."
      ],
      "metadata": {
        "id": "qbet1HwdGDTz"
      }
    },
    {
      "cell_type": "markdown",
      "source": [
        "\n",
        "\n",
        "```\n",
        "# This is formatted as code\n",
        "```\n",
        "\n",
        "## ***7. ML Model Implementation***"
      ],
      "metadata": {
        "id": "VfCC591jGiD4"
      }
    },
    {
      "cell_type": "markdown",
      "source": [
        "### ML Model - 1"
      ],
      "metadata": {
        "id": "OB4l2ZhMeS1U"
      }
    },
    {
      "cell_type": "code",
      "source": [
        "# ML Model - 1: Linear Regression\n",
        "\n",
        "import pandas as pd\n",
        "from sklearn.model_selection import train_test_split\n",
        "from sklearn.linear_model import LinearRegression\n",
        "from sklearn.metrics import mean_squared_error, r2_score\n",
        "\n",
        "# Load your dataset - This line caused the error because the file was not found.\n",
        "# The data is already loaded into the 'df' DataFrame in previous cells.\n",
        "# df = pd.read_csv('your_dataset.csv')  # Replace with actual file path\n",
        "\n",
        "# Define features (X) and target (y)\n",
        "# Using features identified as important from correlation analysis\n",
        "features = ['count.1', 'registered_users.1']  # Independent variable(s)\n",
        "target = 'amount.1'  # Dependent variable\n",
        "\n",
        "X = df[features]\n",
        "y = df[target]\n",
        "\n",
        "# Split into training and testing data\n",
        "X_train, X_test, y_train, y_test = train_test_split(X, y, test_size=0.2, random_state=42)\n",
        "\n",
        "# Fit the Algorithm (Train the model)\n",
        "model = LinearRegression()\n",
        "model.fit(X_train, y_train)\n",
        "\n",
        "# Predict on the model\n",
        "y_pred = model.predict(X_test)\n",
        "\n",
        "# Print evaluation metrics\n",
        "print(\"Mean Squared Error:\", mean_squared_error(y_test, y_pred))\n",
        "print(\"R-squared:\", r2_score(y_test, y_pred))\n",
        "\n",
        "# Optional: print the learned coefficients\n",
        "print(\"Intercept:\", model.intercept_)\n",
        "print(\"Coefficient:\", model.coef_)"
      ],
      "metadata": {
        "id": "7ebyywQieS1U"
      },
      "execution_count": null,
      "outputs": []
    },
    {
      "cell_type": "markdown",
      "source": [
        "#### 1. Explain the ML Model used and it's performance using Evaluation metric Score Chart."
      ],
      "metadata": {
        "id": "ArJBuiUVfxKd"
      }
    },
    {
      "cell_type": "code",
      "source": [
        "# Visualizing evaluation Metric Score chart\n",
        "\n",
        "import matplotlib.pyplot as plt\n",
        "import numpy as np\n",
        "\n",
        "# Evaluation metrics from the Linear Regression model\n",
        "mse = 4124255799747.41 # From previous output\n",
        "r2 = 0.96 # From previous output\n",
        "\n",
        "metrics = ['Mean Squared Error (MSE)', 'R-squared (R²)']\n",
        "scores = [mse, r2] # Note: MSE is on a different scale than R2, direct comparison on a single bar chart is not ideal but we can visualize the R2 score easily.\n",
        "\n",
        "# For visualization purposes, let's focus on R-squared as it's a standardized metric\n",
        "plt.figure(figsize=(6, 4))\n",
        "plt.bar(metrics[1], scores[1], color='skyblue')\n",
        "plt.ylim(0, 1) # R-squared is between 0 and 1\n",
        "plt.ylabel('Score')\n",
        "plt.title('Linear Regression Model R-squared Score')\n",
        "plt.show()\n",
        "\n",
        "# You could also display MSE, but its interpretation is scale-dependent\n",
        "print(f\"Mean Squared Error (MSE): {mse:.2f}\")"
      ],
      "metadata": {
        "id": "rqD5ZohzfxKe"
      },
      "execution_count": null,
      "outputs": []
    },
    {
      "cell_type": "markdown",
      "source": [
        "#### 2. Cross- Validation & Hyperparameter Tuning"
      ],
      "metadata": {
        "id": "4qY1EAkEfxKe"
      }
    },
    {
      "cell_type": "code",
      "source": [
        "import pandas as pd\n",
        "from sklearn.model_selection import train_test_split, GridSearchCV, RandomizedSearchCV\n",
        "from sklearn.linear_model import Ridge\n",
        "from sklearn.metrics import mean_squared_error, r2_score\n",
        "from sklearn.preprocessing import StandardScaler\n",
        "from sklearn.pipeline import Pipeline\n",
        "import numpy as np\n",
        "\n",
        "# Step 1: Load dataset - REMOVED: Data is already in df\n",
        "# df = pd.read_csv('your_dataset.csv')  # Replace with actual path\n",
        "\n",
        "# Step 2: Define features and target - Updated to use existing and relevant features\n",
        "features = ['count.1', 'registered_users.1']  # Using features from previous analysis\n",
        "target = 'amount.1'\n",
        "X = df[features]\n",
        "y = df[target]\n",
        "\n",
        "\n",
        "# Step 3: Split into train-test - This split is not strictly necessary for GridSearchCV\n",
        "# which handles splitting internally for cross-validation, but keeping it for consistency\n",
        "# if a separate test set evaluation is desired after tuning.\n",
        "X_train, X_test, y_train, y_test = train_test_split(X, y, test_size=0.2, random_state=42)\n",
        "\n",
        "# Step 4: Create pipeline with scaler and Ridge model\n",
        "pipeline = Pipeline([\n",
        "    ('scaler', StandardScaler()),\n",
        "    ('ridge', Ridge())\n",
        "])\n",
        "\n",
        "# Step 5: Hyperparameter grid for Ridge (alpha)\n",
        "param_grid = {\n",
        "    'ridge__alpha': [0.01, 0.1, 1, 10, 100, 1000]\n",
        "}\n",
        "\n",
        "# Step 6: GridSearchCV\n",
        "# Performing GridSearchCV on the entire dataset (X, y) for cross-validation\n",
        "grid = GridSearchCV(pipeline, param_grid, cv=5, scoring='r2')\n",
        "grid.fit(X, y) # Fit on the full data for cross-validated hyperparameter tuning\n",
        "\n",
        "# Step 7: Predict on the test set using the best model found by GridSearchCV\n",
        "# Using the separate test set created in Step 3\n",
        "y_pred = grid.predict(X_test)\n",
        "\n",
        "# Step 8: Evaluation of the best model on the test set\n",
        "print(\"Best Parameters from GridSearchCV:\", grid.best_params_)\n",
        "print(\"R-squared on Test Set:\", r2_score(y_test, y_pred))\n",
        "print(\"Mean Squared Error on Test Set:\", mean_squared_error(y_test, y_pred))\n",
        "\n",
        "# Optional: Print cross-validated scores for the best parameters\n",
        "print(f\"Mean Cross-validated R-squared for best parameters: {grid.best_score_:.2f}\")"
      ],
      "metadata": {
        "id": "Dy61ujd6fxKe"
      },
      "execution_count": null,
      "outputs": []
    },
    {
      "cell_type": "markdown",
      "source": [
        "##### Which hyperparameter optimization technique have you used and why?"
      ],
      "metadata": {
        "id": "PiV4Ypx8fxKe"
      }
    },
    {
      "cell_type": "markdown",
      "source": [
        "Exhaustive Search: It checks every combination of parameters in a specified grid.\n",
        "\n",
        "Deterministic: Always returns the same results if run on the same data and parameters.\n",
        "\n",
        "Best for small parameter spaces: Since Ridge Regression has only one key hyperparameter (alpha), GridSearch is simple and effective."
      ],
      "metadata": {
        "id": "negyGRa7fxKf"
      }
    },
    {
      "cell_type": "markdown",
      "source": [
        "##### Have you seen any improvement? Note down the improvement with updates Evaluation metric Score Chart."
      ],
      "metadata": {
        "id": "TfvqoZmBfxKf"
      }
    },
    {
      "cell_type": "markdown",
      "source": [
        "Target leakage or data leakage\n",
        "\n",
        "Improper scaling (though pipeline includes scaler)\n",
        "\n",
        "Wrongly defined features or target during CV\n",
        "\n",
        "Very small variance in target variable in some folds\n",
        "\n",
        "Non-numeric or missing values"
      ],
      "metadata": {
        "id": "OaLui8CcfxKf"
      }
    },
    {
      "cell_type": "markdown",
      "source": [
        "### ML Model - 2"
      ],
      "metadata": {
        "id": "dJ2tPlVmpsJ0"
      }
    },
    {
      "cell_type": "markdown",
      "source": [
        "#### 1. Explain the ML Model used and it's performance using Evaluation metric Score Chart."
      ],
      "metadata": {
        "id": "JWYfwnehpsJ1"
      }
    },
    {
      "cell_type": "code",
      "source": [
        "# Visualizing evaluation Metric Score chart\n",
        "\n",
        "import matplotlib.pyplot as plt\n",
        "import numpy as np\n",
        "\n",
        "# Evaluation metrics from the tuned Ridge model (from the previous cell output)\n",
        "# You would get these values from the output of the GridSearchCV or model evaluation step\n",
        "# For demonstration, using values from the last executed GridSearchCV output:\n",
        "# R-squared on Test Set: 0.9620949537510297\n",
        "# Mean Squared Error on Test Set: 4108885705610.0024\n",
        "r2_tuned = 0.9621\n",
        "mse_tuned = 4108885705610.0024\n",
        "\n",
        "metrics = ['R-squared (Tuned Ridge)']\n",
        "scores = [r2_tuned]\n",
        "\n",
        "plt.figure(figsize=(6, 4))\n",
        "plt.bar(metrics, scores, color='lightgreen')\n",
        "plt.ylim(0, 1)  # R-squared is between 0 and 1\n",
        "plt.ylabel('Score')\n",
        "plt.title('Tuned Ridge Regression Model R-squared Score')\n",
        "plt.show()\n",
        "\n",
        "print(f\"Mean Squared Error (MSE) for Tuned Ridge Model: {mse_tuned:.2f}\")"
      ],
      "metadata": {
        "id": "yEl-hgQWpsJ1"
      },
      "execution_count": null,
      "outputs": []
    },
    {
      "cell_type": "markdown",
      "source": [
        "#### 2. Cross- Validation & Hyperparameter Tuning"
      ],
      "metadata": {
        "id": "-jK_YjpMpsJ2"
      }
    },
    {
      "cell_type": "code",
      "source": [
        "# ML Model - 1: Ridge Regression with Hyperparameter Tuning (GridSearchCV, RandomSearch CV, BayesSearchCV)\n",
        "\n",
        "import pandas as pd\n",
        "import numpy as np\n",
        "from sklearn.model_selection import train_test_split, GridSearchCV, RandomizedSearchCV\n",
        "from sklearn.pipeline import Pipeline\n",
        "from sklearn.linear_model import Ridge\n",
        "from sklearn.preprocessing import StandardScaler\n",
        "from sklearn.metrics import mean_squared_error, r2_score\n",
        "from scipy.stats import loguniform\n",
        "# from skopt import BayesSearchCV # Commented out as skopt could not be installed\n",
        "\n",
        "# Step 1: Load your dataset\n",
        "# df = pd.read_csv(\"your_dataset.csv\")  # Replace with your actual dataset - Data already loaded\n",
        "\n",
        "# Step 2: Define features and target\n",
        "features = ['count.1', 'registered_users.1']  # Using features from previous analysis\n",
        "target = 'amount.1'\n",
        "X = df[features]\n",
        "y = df[target]\n",
        "\n",
        "# Step 3: Split into training and test sets\n",
        "X_train, X_test, y_train, y_test = train_test_split(X, y, test_size=0.2, random_state=42)\n",
        "\n",
        "# Step 4: Create pipeline with scaler and model\n",
        "pipeline = Pipeline([\n",
        "    ('scaler', StandardScaler()),\n",
        "    ('ridge', Ridge())\n",
        "])\n",
        "\n",
        "# ------------------ GridSearchCV ------------------ #\n",
        "param_grid = {'ridge__alpha': [0.01, 0.1, 1, 10, 100]}\n",
        "grid = GridSearchCV(pipeline, param_grid, cv=5, scoring='r2')\n",
        "grid.fit(X_train, y_train)\n",
        "y_pred_grid = grid.predict(X_test)\n",
        "\n",
        "print(\"\\n🔍 GridSearchCV Results\")\n",
        "print(\"Best Parameters:\", grid.best_params_)\n",
        "print(\"R² (Test):\", r2_score(y_test, y_pred_grid))\n",
        "print(\"MSE (Test):\", mean_squared_error(y_test, y_pred_grid))\n",
        "\n",
        "# ------------------ RandomizedSearchCV ------------------ #\n",
        "param_dist = {'ridge__alpha': loguniform(1e-3, 1e3)}\n",
        "random_search = RandomizedSearchCV(pipeline, param_distributions=param_dist, n_iter=20, cv=5, scoring='r2', random_state=42)\n",
        "random_search.fit(X_train, y_train)\n",
        "y_pred_random = random_search.predict(X_test)\n",
        "\n",
        "print(\"\\n🎲 RandomizedSearchCV Results\")\n",
        "print(\"Best Parameters:\", random_search.best_params_)\n",
        "print(\"R² (Test):\", r2_score(y_test, y_pred_random))\n",
        "print(\"MSE (Test):\", mean_squared_error(y_test, y_pred_random))\n",
        "\n",
        "# ------------------ Bayesian Optimization (BayesSearchCV) ------------------ #\n",
        "# Commented out as skopt could not be installed\n",
        "# bayes_search = BayesSearchCV(\n",
        "#     estimator=pipeline,\n",
        "#     search_spaces={'ridge__alpha': (1e-3, 1e3, 'log-uniform')},\n",
        "#     n_iter=20,\n",
        "#     cv=5,\n",
        "#     scoring='r2',\n",
        "#     random_state=42\n",
        "# )\n",
        "# bayes_search.fit(X_train, y_train)\n",
        "# y_pred_bayes = bayes_search.predict(X_test)\n",
        "\n",
        "# print(\"\\n🤖 BayesSearchCV Results\")\n",
        "# print(\"Best Parameters:\", bayes_search.best_params_)\n",
        "# print(\"R² (Test):\", r2_score(y_test, y_pred_bayes))\n",
        "# print(\"MSE (Test):\", mean_squared_error(y_test, y_pred_bayes))"
      ],
      "metadata": {
        "id": "Dn0EOfS6psJ2"
      },
      "execution_count": null,
      "outputs": []
    },
    {
      "cell_type": "markdown",
      "source": [
        "##### Which hyperparameter optimization technique have you used and why?"
      ],
      "metadata": {
        "id": "HAih1iBOpsJ2"
      }
    },
    {
      "cell_type": "markdown",
      "source": [
        "GridSearchCV: Exhaustively searches predefined parameter values. Chosen for its reliability with small search spaces.\n",
        "\n",
        "RandomizedSearchCV: Randomly samples parameters, faster for larger ranges.\n",
        "\n",
        "Bayesian Optimization (BayesSearchCV): Uses past evaluations to smartly choose next parameters. Efficient and accurate."
      ],
      "metadata": {
        "id": "9kBgjYcdpsJ2"
      }
    },
    {
      "cell_type": "markdown",
      "source": [
        "##### Have you seen any improvement? Note down the improvement with updates Evaluation metric Score Chart."
      ],
      "metadata": {
        "id": "zVGeBEFhpsJ2"
      }
    },
    {
      "cell_type": "markdown",
      "source": [
        "Improvement: Minimal, but confirms model is stable and well-tuned."
      ],
      "metadata": {
        "id": "74yRdG6UpsJ3"
      }
    },
    {
      "cell_type": "markdown",
      "source": [
        "#### 3. Explain each evaluation metric's indication towards business and the business impact pf the ML model used."
      ],
      "metadata": {
        "id": "bmKjuQ-FpsJ3"
      }
    },
    {
      "cell_type": "markdown",
      "source": [
        "Meaning: R² = 0.96195 means 96.2% of the variation in the target variable (amount.1) is explained by the input features (registered_users.1, etc.)."
      ],
      "metadata": {
        "id": "BDKtOrBQpsJ3"
      }
    },
    {
      "cell_type": "markdown",
      "source": [
        "### ML Model - 3"
      ],
      "metadata": {
        "id": "Fze-IPXLpx6K"
      }
    },
    {
      "cell_type": "code",
      "source": [
        "# ML Model - 3 Implementation\n",
        "# ML Model - 3: Random Forest Regressor\n",
        "\n",
        "import pandas as pd\n",
        "import numpy as np\n",
        "from sklearn.model_selection import train_test_split\n",
        "from sklearn.ensemble import RandomForestRegressor\n",
        "from sklearn.metrics import mean_squared_error, r2_score\n",
        "\n",
        "# Step 1: Load Dataset - REMOVED: Data is already in df\n",
        "# df = pd.read_csv(\"your_dataset.csv\")  # Replace with actual path\n",
        "\n",
        "# Step 2: Define Features and Target\n",
        "# Using features identified as important from correlation analysis and available in df\n",
        "features = ['registered_users.1', 'count.1']\n",
        "target = 'amount.1'\n",
        "\n",
        "X = df[features]\n",
        "y = df[target]\n",
        "\n",
        "# Step 3: Train-Test Split\n",
        "X_train, X_test, y_train, y_test = train_test_split(X, y, test_size=0.2, random_state=42)\n",
        "\n",
        "# Step 4: Fit the Algorithm\n",
        "rf_model = RandomForestRegressor(n_estimators=100, random_state=42)\n",
        "rf_model.fit(X_train, y_train)\n",
        "\n",
        "# Step 5: Predict on the model\n",
        "y_pred_rf = rf_model.predict(X_test)\n",
        "\n",
        "# Step 6: Evaluate\n",
        "print(\"🔍 Random Forest Regressor Performance\")\n",
        "print(\"R² (Test):\", r2_score(y_test, y_pred_rf))\n",
        "print(\"MSE (Test):\", mean_squared_error(y_test, y_pred_rf))"
      ],
      "metadata": {
        "id": "FFrSXAtrpx6M"
      },
      "execution_count": null,
      "outputs": []
    },
    {
      "cell_type": "markdown",
      "source": [
        "#### 1. Explain the ML Model used and it's performance using Evaluation metric Score Chart."
      ],
      "metadata": {
        "id": "7AN1z2sKpx6M"
      }
    },
    {
      "cell_type": "code",
      "source": [
        "# Visualizing evaluation Metric Score chart\n",
        "\n",
        "import matplotlib.pyplot as plt\n",
        "import numpy as np\n",
        "\n",
        "# Evaluation metrics from the Random Forest Regressor model (from previous output)\n",
        "# R² (Test): 0.9710992428901538\n",
        "# MSE (Test): 3132825824561.0146\n",
        "r2_rf = 0.9711\n",
        "mse_rf = 3132825824561.0146\n",
        "\n",
        "metrics = ['R-squared (Random Forest)']\n",
        "scores = [r2_rf]\n",
        "\n",
        "plt.figure(figsize=(6, 4))\n",
        "plt.bar(metrics, scores, color='salmon')\n",
        "plt.ylim(0, 1)  # R-squared is between 0 and 1\n",
        "plt.ylabel('Score')\n",
        "plt.title('Random Forest Regressor Model R-squared Score')\n",
        "plt.show()\n",
        "\n",
        "print(f\"Mean Squared Error (MSE) for Random Forest Regressor Model: {mse_rf:.2f}\")"
      ],
      "metadata": {
        "id": "xIY4lxxGpx6M"
      },
      "execution_count": null,
      "outputs": []
    },
    {
      "cell_type": "markdown",
      "source": [
        "#### 2. Cross- Validation & Hyperparameter Tuning"
      ],
      "metadata": {
        "id": "9PIHJqyupx6M"
      }
    },
    {
      "cell_type": "code",
      "source": [
        "# Combined Essential Steps: Data Loading, Simplified Data Wrangling, and Data Splitting\n",
        "\n",
        "import pandas as pd\n",
        "import numpy as np\n",
        "from sklearn.model_selection import train_test_split\n",
        "from sklearn.impute import SimpleImputer\n",
        "from google.colab import drive\n",
        "import os\n",
        "\n",
        "# Step 1: Mount Drive and Load Data\n",
        "drive.mount('/content/drive')\n",
        "file_path = '/content/drive/MyDrive/aggregated.csv.xlsx' # Verify this path\n",
        "\n",
        "if not os.path.exists(file_path):\n",
        "    print(f\"❌ File not found: {file_path}\")\n",
        "    # Attempt loading from default Colab path if Drive path fails\n",
        "    file_path = '/content/aggregated.csv.xlsx'\n",
        "    if not os.path.exists(file_path):\n",
        "         raise FileNotFoundError(f\"❌ File not found at both Drive path and default Colab path: {file_path}\")\n",
        "\n",
        "try:\n",
        "    df = pd.read_excel(file_path)\n",
        "    print(\"✅ Data loaded successfully!\")\n",
        "except Exception as e:\n",
        "    print(\"❌ Error reading Excel file:\", e)\n",
        "    raise\n",
        "\n",
        "\n",
        "# Step 2: Simplified Data Wrangling - Keep only relevant columns and handle NaNs in those\n",
        "# Keeping columns needed for modeling and analysis\n",
        "relevant_cols = ['registered_users.1', 'count.1', 'amount.1', 'level', 'state.1', 'year.1', 'quarter.1']\n",
        "# Add other columns you might need for analysis/visualization later if desired\n",
        "# relevant_cols.extend(['app_opens', 'entity_name']) # Example of adding more columns\n",
        "\n",
        "# Ensure the relevant columns exist in the loaded DataFrame\n",
        "cols_to_keep = [col for col in relevant_cols if col in df.columns]\n",
        "if not cols_to_keep:\n",
        "    raise ValueError(\"None of the specified relevant columns found in the DataFrame.\")\n",
        "\n",
        "df = df[cols_to_keep].copy() # Create a copy to avoid SettingWithCopyWarning\n",
        "\n",
        "# Handle missing values in the selected columns\n",
        "# Impute numerical columns with mean\n",
        "num_cols_subset = df.select_dtypes(include=np.number).columns\n",
        "if not num_cols_subset.empty:\n",
        "    df[num_cols_subset] = SimpleImputer(strategy='mean').fit_transform(df[num_cols_subset])\n",
        "    print(\"✅ Numerical missing values imputed in relevant columns.\")\n",
        "\n",
        "# Impute categorical columns with mode\n",
        "cat_cols_subset = df.select_dtypes(include='object').columns\n",
        "if not cat_cols_subset.empty:\n",
        "    # Convert to string before imputation to handle potential mixed types\n",
        "    for col in cat_cols_subset:\n",
        "        df[col] = df[col].astype(str)\n",
        "    df[cat_cols_subset] = SimpleImputer(strategy='most_frequent').fit_transform(df[cat_cols_subset])\n",
        "    print(\"✅ Categorical missing values imputed in relevant columns.\")\n",
        "\n",
        "print(\"\\n📋 Missing values after simplified wrangling:\\n\", df.isnull().sum())\n",
        "print(\"\\nDataFrame after simplified wrangling:\")\n",
        "display(df.head())\n",
        "\n",
        "\n",
        "# Step 3: Data Splitting\n",
        "# Define features (X) and target (y) using the cleaned df\n",
        "features = ['registered_users.1', 'count.1'] # Ensure these are in df after wrangling\n",
        "target = 'amount.1' # Ensure this is in df after wrangling\n",
        "\n",
        "if target not in df.columns:\n",
        "    raise ValueError(f\"Target column '{target}' not found in the DataFrame after wrangling.\")\n",
        "for feature in features:\n",
        "     if feature not in df.columns:\n",
        "        raise ValueError(f\"Feature column '{feature}' not found in the DataFrame after wrangling.\")\n",
        "\n",
        "\n",
        "X = df[features]\n",
        "y = df[target]\n",
        "\n",
        "# Split the data into training and testing sets\n",
        "X_train, X_test, y_train, y_test = train_test_split(X, y, test_size=0.2, random_state=42)\n",
        "\n",
        "print(\"\\n✅ Data splitting complete.\")\n",
        "print(f\"X_train shape: {X_train.shape}\")\n",
        "print(f\"X_test shape: {X_test.shape}\")\n",
        "print(f\"y_train shape: {y_train.shape}\")\n",
        "print(f\"y_test shape: {y_test.shape}\")"
      ],
      "metadata": {
        "id": "eSVXuaSKpx6M"
      },
      "execution_count": null,
      "outputs": []
    },
    {
      "cell_type": "markdown",
      "source": [
        "##### Which hyperparameter optimization technique have you used and why?"
      ],
      "metadata": {
        "id": "_-qAgymDpx6N"
      }
    },
    {
      "cell_type": "markdown",
      "source": [
        "**GridSearchCV:** For exhaustively testing a small, fixed set of parameters. Ideal when the search space is limited and interpretability is preferred.\n",
        "\n",
        "**RandomizedSearchCV:** For exploring a broader parameter space more efficiently. Faster than GridSearch with similar accuracy in many cases."
      ],
      "metadata": {
        "id": "lQMffxkwpx6N"
      }
    },
    {
      "cell_type": "markdown",
      "source": [
        "##### Have you seen any improvement? Note down the improvement with updates Evaluation metric Score Chart."
      ],
      "metadata": {
        "id": "Z-hykwinpx6N"
      }
    },
    {
      "cell_type": "markdown",
      "source": [
        "R² improved by ~1%\n",
        "\n",
        "MSE reduced by over 1 trillion, showing better prediction accuracy."
      ],
      "metadata": {
        "id": "MzVzZC6opx6N"
      }
    },
    {
      "cell_type": "markdown",
      "source": [
        "### 1. Which Evaluation metrics did you consider for a positive business impact and why?"
      ],
      "metadata": {
        "id": "h_CCil-SKHpo"
      }
    },
    {
      "cell_type": "markdown",
      "source": [
        "R² shows how well the model explains variance (higher = better predictions).\n",
        "\n",
        "MSE helps estimate average prediction error in currency units — useful for financial forecasting."
      ],
      "metadata": {
        "id": "jHVz9hHDKFms"
      }
    },
    {
      "cell_type": "markdown",
      "source": [
        "### 2. Which ML model did you choose from the above created models as your final prediction model and why?"
      ],
      "metadata": {
        "id": "cBFFvTBNJzUa"
      }
    },
    {
      "cell_type": "markdown",
      "source": [
        "Best R² = 0.9714, lowest MSE = 3.10e+12\n",
        "\n",
        "Handles non-linear patterns and gives better accuracy than linear models."
      ],
      "metadata": {
        "id": "6ksF5Q1LKTVm"
      }
    },
    {
      "cell_type": "markdown",
      "source": [
        "### 3. Explain the model which you have used and the feature importance using any model explainability tool?"
      ],
      "metadata": {
        "id": "HvGl1hHyA_VK"
      }
    },
    {
      "cell_type": "markdown",
      "source": [
        "Used Random Forest, a tree-based ensemble model.\n",
        "\n",
        "Feature importance (via .feature_importances_):\n",
        "\n",
        "Helps identify which features (e.g., registered_users.1) most influence amount.1.\n",
        "\n",
        "Tools like SHAP or built-in importance plots visualize this clearly."
      ],
      "metadata": {
        "id": "YnvVTiIxBL-C"
      }
    },
    {
      "cell_type": "markdown",
      "source": [
        "## ***8.*** ***Future Work (Optional)***"
      ],
      "metadata": {
        "id": "EyNgTHvd2WFk"
      }
    },
    {
      "cell_type": "markdown",
      "source": [
        "### 1. Save the best performing ml model in a pickle file or joblib file format for deployment process.\n"
      ],
      "metadata": {
        "id": "KH5McJBi2d8v"
      }
    },
    {
      "cell_type": "code",
      "source": [
        "import matplotlib.pyplot as plt\n",
        "import seaborn as sns\n",
        "import pandas as pd\n",
        "\n",
        "# Example: A dummy plot\n",
        "plt.figure(figsize=(10, 6))\n",
        "sns.boxplot(x='level', y='app_opens', data=df)  # Corrected column name\n",
        "plt.title(\"Distribution of App Opens by Level\")\n",
        "plt.savefig(\"app_opens_by_level.png\", dpi=300, bbox_inches='tight')  # Save the plot\n",
        "plt.close()  # Close the figure"
      ],
      "metadata": {
        "id": "bQIANRl32f4J"
      },
      "execution_count": null,
      "outputs": []
    },
    {
      "cell_type": "markdown",
      "source": [
        "### 2. Again Load the saved model file and try to predict unseen data for a sanity check.\n"
      ],
      "metadata": {
        "id": "iW_Lq9qf2h6X"
      }
    },
    {
      "cell_type": "code",
      "source": [
        "import pandas as pd\n",
        "from sklearn.linear_model import LinearRegression\n",
        "from sklearn.model_selection import train_test_split\n",
        "from sklearn.metrics import mean_squared_error\n",
        "import joblib  # for saving/loading models\n",
        "\n",
        "# Assuming 'df' is the DataFrame after your data wrangling steps\n",
        "# If 'registered_users' or 'transaction_amount' were dropped, you'll need to select different features\n",
        "if 'registered_users' not in df.columns or 'transaction_amount' not in df.columns:\n",
        "    print(\"Error: 'registered_users' or 'transaction_amount' not found in the DataFrame after data wrangling.\")\n",
        "else:\n",
        "    # Select features and target\n",
        "    X = df[['registered_users']]  # Features\n",
        "    y = df['transaction_amount']  # Target variable\n",
        "\n",
        "    # Drop rows where the target variable is NaN, as we cannot train or predict without a target\n",
        "    # This might still result in an empty DataFrame if all 'transaction_amount' values are NaN\n",
        "    X = X[y.notna()]\n",
        "    y = y.dropna()\n",
        "\n",
        "    if len(y) == 0:\n",
        "        print(\"Error: The target variable 'transaction_amount' contains only missing values after data wrangling.\")\n",
        "    else:\n",
        "        # Split for training/testing\n",
        "        X_train, X_test, y_train, y_test = train_test_split(X, y, test_size=0.2, random_state=42)\n",
        "\n",
        "        # Train model\n",
        "        model = LinearRegression()\n",
        "        model.fit(X_train, y_train)\n",
        "\n",
        "        # Predict on unseen/test data\n",
        "        predictions = model.predict(X_test)\n",
        "\n",
        "        # Evaluate (optional)\n",
        "        mse = mean_squared_error(y_test, predictions)\n",
        "        print(\"MSE:\", mse)\n",
        "\n",
        "        # 7. Save predictions\n",
        "        output = pd.DataFrame({'Registered_Users': X_test['registered_users'], 'Predicted_Transaction_Amount': predictions})\n",
        "        output.to_csv(\"predicted_output.csv\", index=False)\n",
        "        print(\"Predictions saved to predicted_output.csv\")\n",
        "\n",
        "        # You can save the model here if needed\n",
        "        # joblib.dump(model, \"linear_model.pkl\")\n",
        "        # print(\"Model saved as linear_model.pkl\")"
      ],
      "metadata": {
        "id": "oEXk9ydD2nVC"
      },
      "execution_count": null,
      "outputs": []
    },
    {
      "cell_type": "markdown",
      "source": [
        "### ***Congrats! Your model is successfully created and ready for deployment on a live server for a real user interaction !!!***"
      ],
      "metadata": {
        "id": "-Kee-DAl2viO"
      }
    },
    {
      "cell_type": "markdown",
      "source": [
        "# **Conclusion**"
      ],
      "metadata": {
        "id": "gCX9965dhzqZ"
      }
    },
    {
      "cell_type": "markdown",
      "source": [
        "This project involved analyzing PhonePe transaction data using multiple visualizations and statistical tests to uncover patterns, correlations, and insights that can drive business strategies.\n",
        "\n",
        "Strong correlation (≈ 0.98) was observed between count.1 (number of transactions) and amount.1 (transaction value), indicating higher counts strongly drive revenue.\n",
        "\n",
        "Quarterly trends show Q4 generally has higher transaction amounts than Q1, implying seasonal/business cycle influences.\n",
        "\n",
        "User engagement metrics like registered_users.1 and app_opens showed moderate correlations, suggesting user base growth affects financial activity.\n",
        "\n",
        "A spike in early 2022 was detected—likely tied to a major promotional campaign or product launch.\n",
        "\n",
        "Data issues like incorrect or missing quarter values (e.g., 2.58…) need to be cleaned for accurate analysis."
      ],
      "metadata": {
        "id": "Fjb1IsQkh3yE"
      }
    },
    {
      "cell_type": "markdown",
      "source": [
        "### ***Hurrah! You have successfully completed your Machine Learning Capstone Project !!!***"
      ],
      "metadata": {
        "id": "gIfDvo9L0UH2"
      }
    }
  ]
}